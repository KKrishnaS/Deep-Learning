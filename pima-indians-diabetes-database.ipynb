{
 "cells": [
  {
   "cell_type": "code",
   "execution_count": 1,
   "id": "bfd289d0",
   "metadata": {
    "_cell_guid": "b1076dfc-b9ad-4769-8c92-a6c4dae69d19",
    "_uuid": "8f2839f25d086af736a60e9eeb907d3b93b6e0e5",
    "execution": {
     "iopub.execute_input": "2025-08-21T08:23:12.632355Z",
     "iopub.status.busy": "2025-08-21T08:23:12.632077Z",
     "iopub.status.idle": "2025-08-21T08:23:14.492565Z",
     "shell.execute_reply": "2025-08-21T08:23:14.491401Z"
    },
    "papermill": {
     "duration": 1.868064,
     "end_time": "2025-08-21T08:23:14.493862",
     "exception": false,
     "start_time": "2025-08-21T08:23:12.625798",
     "status": "completed"
    },
    "tags": []
   },
   "outputs": [
    {
     "name": "stdout",
     "output_type": "stream",
     "text": [
      "/kaggle/input/pima-indians-diabetes-database/diabetes.csv\n"
     ]
    }
   ],
   "source": [
    "# This Python 3 environment comes with many helpful analytics libraries installed\n",
    "# It is defined by the kaggle/python Docker image: https://github.com/kaggle/docker-python\n",
    "# For example, here's several helpful packages to load\n",
    "\n",
    "import numpy as np # linear algebra\n",
    "import pandas as pd # data processing, CSV file I/O (e.g. pd.read_csv)\n",
    "\n",
    "# Input data files are available in the read-only \"../input/\" directory\n",
    "# For example, running this (by clicking run or pressing Shift+Enter) will list all files under the input directory\n",
    "\n",
    "import os\n",
    "for dirname, _, filenames in os.walk('/kaggle/input'):\n",
    "    for filename in filenames:\n",
    "        print(os.path.join(dirname, filename))\n",
    "\n",
    "# You can write up to 20GB to the current directory (/kaggle/working/) that gets preserved as output when you create a version using \"Save & Run All\" \n",
    "# You can also write temporary files to /kaggle/temp/, but they won't be saved outside of the current session"
   ]
  },
  {
   "cell_type": "code",
   "execution_count": 2,
   "id": "d178bcf1",
   "metadata": {
    "execution": {
     "iopub.execute_input": "2025-08-21T08:23:14.503275Z",
     "iopub.status.busy": "2025-08-21T08:23:14.502917Z",
     "iopub.status.idle": "2025-08-21T08:23:14.531757Z",
     "shell.execute_reply": "2025-08-21T08:23:14.530965Z"
    },
    "papermill": {
     "duration": 0.035117,
     "end_time": "2025-08-21T08:23:14.533356",
     "exception": false,
     "start_time": "2025-08-21T08:23:14.498239",
     "status": "completed"
    },
    "tags": []
   },
   "outputs": [],
   "source": [
    "import pandas as pd\n",
    "df = pd.read_csv(\"/kaggle/input/pima-indians-diabetes-database/diabetes.csv\")"
   ]
  },
  {
   "cell_type": "code",
   "execution_count": 3,
   "id": "46d72cdd",
   "metadata": {
    "execution": {
     "iopub.execute_input": "2025-08-21T08:23:14.543337Z",
     "iopub.status.busy": "2025-08-21T08:23:14.543023Z",
     "iopub.status.idle": "2025-08-21T08:23:14.571121Z",
     "shell.execute_reply": "2025-08-21T08:23:14.569552Z"
    },
    "papermill": {
     "duration": 0.035006,
     "end_time": "2025-08-21T08:23:14.572954",
     "exception": false,
     "start_time": "2025-08-21T08:23:14.537948",
     "status": "completed"
    },
    "tags": []
   },
   "outputs": [
    {
     "data": {
      "text/html": [
       "<div>\n",
       "<style scoped>\n",
       "    .dataframe tbody tr th:only-of-type {\n",
       "        vertical-align: middle;\n",
       "    }\n",
       "\n",
       "    .dataframe tbody tr th {\n",
       "        vertical-align: top;\n",
       "    }\n",
       "\n",
       "    .dataframe thead th {\n",
       "        text-align: right;\n",
       "    }\n",
       "</style>\n",
       "<table border=\"1\" class=\"dataframe\">\n",
       "  <thead>\n",
       "    <tr style=\"text-align: right;\">\n",
       "      <th></th>\n",
       "      <th>Pregnancies</th>\n",
       "      <th>Glucose</th>\n",
       "      <th>BloodPressure</th>\n",
       "      <th>SkinThickness</th>\n",
       "      <th>Insulin</th>\n",
       "      <th>BMI</th>\n",
       "      <th>DiabetesPedigreeFunction</th>\n",
       "      <th>Age</th>\n",
       "      <th>Outcome</th>\n",
       "    </tr>\n",
       "  </thead>\n",
       "  <tbody>\n",
       "    <tr>\n",
       "      <th>0</th>\n",
       "      <td>6</td>\n",
       "      <td>148</td>\n",
       "      <td>72</td>\n",
       "      <td>35</td>\n",
       "      <td>0</td>\n",
       "      <td>33.6</td>\n",
       "      <td>0.627</td>\n",
       "      <td>50</td>\n",
       "      <td>1</td>\n",
       "    </tr>\n",
       "    <tr>\n",
       "      <th>1</th>\n",
       "      <td>1</td>\n",
       "      <td>85</td>\n",
       "      <td>66</td>\n",
       "      <td>29</td>\n",
       "      <td>0</td>\n",
       "      <td>26.6</td>\n",
       "      <td>0.351</td>\n",
       "      <td>31</td>\n",
       "      <td>0</td>\n",
       "    </tr>\n",
       "    <tr>\n",
       "      <th>2</th>\n",
       "      <td>8</td>\n",
       "      <td>183</td>\n",
       "      <td>64</td>\n",
       "      <td>0</td>\n",
       "      <td>0</td>\n",
       "      <td>23.3</td>\n",
       "      <td>0.672</td>\n",
       "      <td>32</td>\n",
       "      <td>1</td>\n",
       "    </tr>\n",
       "    <tr>\n",
       "      <th>3</th>\n",
       "      <td>1</td>\n",
       "      <td>89</td>\n",
       "      <td>66</td>\n",
       "      <td>23</td>\n",
       "      <td>94</td>\n",
       "      <td>28.1</td>\n",
       "      <td>0.167</td>\n",
       "      <td>21</td>\n",
       "      <td>0</td>\n",
       "    </tr>\n",
       "    <tr>\n",
       "      <th>4</th>\n",
       "      <td>0</td>\n",
       "      <td>137</td>\n",
       "      <td>40</td>\n",
       "      <td>35</td>\n",
       "      <td>168</td>\n",
       "      <td>43.1</td>\n",
       "      <td>2.288</td>\n",
       "      <td>33</td>\n",
       "      <td>1</td>\n",
       "    </tr>\n",
       "  </tbody>\n",
       "</table>\n",
       "</div>"
      ],
      "text/plain": [
       "   Pregnancies  Glucose  BloodPressure  SkinThickness  Insulin   BMI  \\\n",
       "0            6      148             72             35        0  33.6   \n",
       "1            1       85             66             29        0  26.6   \n",
       "2            8      183             64              0        0  23.3   \n",
       "3            1       89             66             23       94  28.1   \n",
       "4            0      137             40             35      168  43.1   \n",
       "\n",
       "   DiabetesPedigreeFunction  Age  Outcome  \n",
       "0                     0.627   50        1  \n",
       "1                     0.351   31        0  \n",
       "2                     0.672   32        1  \n",
       "3                     0.167   21        0  \n",
       "4                     2.288   33        1  "
      ]
     },
     "execution_count": 3,
     "metadata": {},
     "output_type": "execute_result"
    }
   ],
   "source": [
    "df.head()"
   ]
  },
  {
   "cell_type": "code",
   "execution_count": 4,
   "id": "423f1a42",
   "metadata": {
    "execution": {
     "iopub.execute_input": "2025-08-21T08:23:14.583464Z",
     "iopub.status.busy": "2025-08-21T08:23:14.583175Z",
     "iopub.status.idle": "2025-08-21T08:23:14.611560Z",
     "shell.execute_reply": "2025-08-21T08:23:14.610584Z"
    },
    "papermill": {
     "duration": 0.035493,
     "end_time": "2025-08-21T08:23:14.613412",
     "exception": false,
     "start_time": "2025-08-21T08:23:14.577919",
     "status": "completed"
    },
    "tags": []
   },
   "outputs": [
    {
     "name": "stdout",
     "output_type": "stream",
     "text": [
      "<class 'pandas.core.frame.DataFrame'>\n",
      "RangeIndex: 768 entries, 0 to 767\n",
      "Data columns (total 9 columns):\n",
      " #   Column                    Non-Null Count  Dtype  \n",
      "---  ------                    --------------  -----  \n",
      " 0   Pregnancies               768 non-null    int64  \n",
      " 1   Glucose                   768 non-null    int64  \n",
      " 2   BloodPressure             768 non-null    int64  \n",
      " 3   SkinThickness             768 non-null    int64  \n",
      " 4   Insulin                   768 non-null    int64  \n",
      " 5   BMI                       768 non-null    float64\n",
      " 6   DiabetesPedigreeFunction  768 non-null    float64\n",
      " 7   Age                       768 non-null    int64  \n",
      " 8   Outcome                   768 non-null    int64  \n",
      "dtypes: float64(2), int64(7)\n",
      "memory usage: 54.1 KB\n"
     ]
    }
   ],
   "source": [
    "df.info()"
   ]
  },
  {
   "cell_type": "code",
   "execution_count": 5,
   "id": "7281f341",
   "metadata": {
    "execution": {
     "iopub.execute_input": "2025-08-21T08:23:14.624162Z",
     "iopub.status.busy": "2025-08-21T08:23:14.623824Z",
     "iopub.status.idle": "2025-08-21T08:23:14.631262Z",
     "shell.execute_reply": "2025-08-21T08:23:14.630351Z"
    },
    "papermill": {
     "duration": 0.014404,
     "end_time": "2025-08-21T08:23:14.632857",
     "exception": false,
     "start_time": "2025-08-21T08:23:14.618453",
     "status": "completed"
    },
    "tags": []
   },
   "outputs": [
    {
     "data": {
      "text/plain": [
       "0"
      ]
     },
     "execution_count": 5,
     "metadata": {},
     "output_type": "execute_result"
    }
   ],
   "source": [
    "df.duplicated().sum()"
   ]
  },
  {
   "cell_type": "code",
   "execution_count": 6,
   "id": "480b12bf",
   "metadata": {
    "execution": {
     "iopub.execute_input": "2025-08-21T08:23:14.646235Z",
     "iopub.status.busy": "2025-08-21T08:23:14.645899Z",
     "iopub.status.idle": "2025-08-21T08:23:14.656523Z",
     "shell.execute_reply": "2025-08-21T08:23:14.655391Z"
    },
    "papermill": {
     "duration": 0.01838,
     "end_time": "2025-08-21T08:23:14.657816",
     "exception": false,
     "start_time": "2025-08-21T08:23:14.639436",
     "status": "completed"
    },
    "tags": []
   },
   "outputs": [
    {
     "data": {
      "text/plain": [
       "Glucose\n",
       "99     17\n",
       "100    17\n",
       "111    14\n",
       "129    14\n",
       "125    14\n",
       "       ..\n",
       "191     1\n",
       "177     1\n",
       "44      1\n",
       "62      1\n",
       "190     1\n",
       "Name: count, Length: 136, dtype: int64"
      ]
     },
     "execution_count": 6,
     "metadata": {},
     "output_type": "execute_result"
    }
   ],
   "source": [
    "df['Glucose'].value_counts()"
   ]
  },
  {
   "cell_type": "code",
   "execution_count": 7,
   "id": "cfb63950",
   "metadata": {
    "execution": {
     "iopub.execute_input": "2025-08-21T08:23:14.668719Z",
     "iopub.status.busy": "2025-08-21T08:23:14.668367Z",
     "iopub.status.idle": "2025-08-21T08:23:14.676134Z",
     "shell.execute_reply": "2025-08-21T08:23:14.674845Z"
    },
    "papermill": {
     "duration": 0.0143,
     "end_time": "2025-08-21T08:23:14.677546",
     "exception": false,
     "start_time": "2025-08-21T08:23:14.663246",
     "status": "completed"
    },
    "tags": []
   },
   "outputs": [],
   "source": [
    "df.drop(columns=['Glucose', 'BMI', 'Insulin', 'Age', 'Outcome'], inplace=True)"
   ]
  },
  {
   "cell_type": "code",
   "execution_count": 8,
   "id": "b9e4b576",
   "metadata": {
    "execution": {
     "iopub.execute_input": "2025-08-21T08:23:14.688155Z",
     "iopub.status.busy": "2025-08-21T08:23:14.687832Z",
     "iopub.status.idle": "2025-08-21T08:23:14.696021Z",
     "shell.execute_reply": "2025-08-21T08:23:14.695351Z"
    },
    "papermill": {
     "duration": 0.014743,
     "end_time": "2025-08-21T08:23:14.697193",
     "exception": false,
     "start_time": "2025-08-21T08:23:14.682450",
     "status": "completed"
    },
    "tags": []
   },
   "outputs": [
    {
     "data": {
      "text/html": [
       "<div>\n",
       "<style scoped>\n",
       "    .dataframe tbody tr th:only-of-type {\n",
       "        vertical-align: middle;\n",
       "    }\n",
       "\n",
       "    .dataframe tbody tr th {\n",
       "        vertical-align: top;\n",
       "    }\n",
       "\n",
       "    .dataframe thead th {\n",
       "        text-align: right;\n",
       "    }\n",
       "</style>\n",
       "<table border=\"1\" class=\"dataframe\">\n",
       "  <thead>\n",
       "    <tr style=\"text-align: right;\">\n",
       "      <th></th>\n",
       "      <th>Pregnancies</th>\n",
       "      <th>BloodPressure</th>\n",
       "      <th>SkinThickness</th>\n",
       "      <th>DiabetesPedigreeFunction</th>\n",
       "    </tr>\n",
       "  </thead>\n",
       "  <tbody>\n",
       "    <tr>\n",
       "      <th>0</th>\n",
       "      <td>6</td>\n",
       "      <td>72</td>\n",
       "      <td>35</td>\n",
       "      <td>0.627</td>\n",
       "    </tr>\n",
       "    <tr>\n",
       "      <th>1</th>\n",
       "      <td>1</td>\n",
       "      <td>66</td>\n",
       "      <td>29</td>\n",
       "      <td>0.351</td>\n",
       "    </tr>\n",
       "    <tr>\n",
       "      <th>2</th>\n",
       "      <td>8</td>\n",
       "      <td>64</td>\n",
       "      <td>0</td>\n",
       "      <td>0.672</td>\n",
       "    </tr>\n",
       "    <tr>\n",
       "      <th>3</th>\n",
       "      <td>1</td>\n",
       "      <td>66</td>\n",
       "      <td>23</td>\n",
       "      <td>0.167</td>\n",
       "    </tr>\n",
       "    <tr>\n",
       "      <th>4</th>\n",
       "      <td>0</td>\n",
       "      <td>40</td>\n",
       "      <td>35</td>\n",
       "      <td>2.288</td>\n",
       "    </tr>\n",
       "  </tbody>\n",
       "</table>\n",
       "</div>"
      ],
      "text/plain": [
       "   Pregnancies  BloodPressure  SkinThickness  DiabetesPedigreeFunction\n",
       "0            6             72             35                     0.627\n",
       "1            1             66             29                     0.351\n",
       "2            8             64              0                     0.672\n",
       "3            1             66             23                     0.167\n",
       "4            0             40             35                     2.288"
      ]
     },
     "execution_count": 8,
     "metadata": {},
     "output_type": "execute_result"
    }
   ],
   "source": [
    "df.head()"
   ]
  },
  {
   "cell_type": "code",
   "execution_count": 9,
   "id": "a205342f",
   "metadata": {
    "execution": {
     "iopub.execute_input": "2025-08-21T08:23:14.707776Z",
     "iopub.status.busy": "2025-08-21T08:23:14.707454Z",
     "iopub.status.idle": "2025-08-21T08:23:14.713297Z",
     "shell.execute_reply": "2025-08-21T08:23:14.712687Z"
    },
    "papermill": {
     "duration": 0.012698,
     "end_time": "2025-08-21T08:23:14.714748",
     "exception": false,
     "start_time": "2025-08-21T08:23:14.702050",
     "status": "completed"
    },
    "tags": []
   },
   "outputs": [
    {
     "data": {
      "text/plain": [
       "BloodPressure\n",
       "70     57\n",
       "74     52\n",
       "78     45\n",
       "68     45\n",
       "72     44\n",
       "64     43\n",
       "80     40\n",
       "76     39\n",
       "60     37\n",
       "0      35\n",
       "62     34\n",
       "66     30\n",
       "82     30\n",
       "88     25\n",
       "84     23\n",
       "90     22\n",
       "86     21\n",
       "58     21\n",
       "50     13\n",
       "56     12\n",
       "52     11\n",
       "54     11\n",
       "75      8\n",
       "92      8\n",
       "65      7\n",
       "85      6\n",
       "94      6\n",
       "48      5\n",
       "96      4\n",
       "44      4\n",
       "100     3\n",
       "106     3\n",
       "98      3\n",
       "110     3\n",
       "55      2\n",
       "108     2\n",
       "104     2\n",
       "46      2\n",
       "30      2\n",
       "122     1\n",
       "95      1\n",
       "102     1\n",
       "61      1\n",
       "24      1\n",
       "38      1\n",
       "40      1\n",
       "114     1\n",
       "Name: count, dtype: int64"
      ]
     },
     "execution_count": 9,
     "metadata": {},
     "output_type": "execute_result"
    }
   ],
   "source": [
    "df['BloodPressure'].value_counts()"
   ]
  },
  {
   "cell_type": "code",
   "execution_count": 10,
   "id": "0df3bdf2",
   "metadata": {
    "execution": {
     "iopub.execute_input": "2025-08-21T08:23:14.725037Z",
     "iopub.status.busy": "2025-08-21T08:23:14.724792Z",
     "iopub.status.idle": "2025-08-21T08:23:14.731411Z",
     "shell.execute_reply": "2025-08-21T08:23:14.730744Z"
    },
    "papermill": {
     "duration": 0.01279,
     "end_time": "2025-08-21T08:23:14.732456",
     "exception": false,
     "start_time": "2025-08-21T08:23:14.719666",
     "status": "completed"
    },
    "tags": []
   },
   "outputs": [
    {
     "data": {
      "text/plain": [
       "SkinThickness\n",
       "0     227\n",
       "32     31\n",
       "30     27\n",
       "27     23\n",
       "23     22\n",
       "33     20\n",
       "28     20\n",
       "18     20\n",
       "31     19\n",
       "19     18\n",
       "39     18\n",
       "29     17\n",
       "40     16\n",
       "25     16\n",
       "26     16\n",
       "22     16\n",
       "37     16\n",
       "41     15\n",
       "35     15\n",
       "36     14\n",
       "15     14\n",
       "17     14\n",
       "20     13\n",
       "24     12\n",
       "42     11\n",
       "13     11\n",
       "21     10\n",
       "46      8\n",
       "34      8\n",
       "12      7\n",
       "38      7\n",
       "11      6\n",
       "43      6\n",
       "16      6\n",
       "45      6\n",
       "14      6\n",
       "44      5\n",
       "10      5\n",
       "48      4\n",
       "47      4\n",
       "49      3\n",
       "50      3\n",
       "8       2\n",
       "7       2\n",
       "52      2\n",
       "54      2\n",
       "63      1\n",
       "60      1\n",
       "56      1\n",
       "51      1\n",
       "99      1\n",
       "Name: count, dtype: int64"
      ]
     },
     "execution_count": 10,
     "metadata": {},
     "output_type": "execute_result"
    }
   ],
   "source": [
    "df['SkinThickness'].value_counts()"
   ]
  },
  {
   "cell_type": "code",
   "execution_count": 11,
   "id": "0402735b",
   "metadata": {
    "execution": {
     "iopub.execute_input": "2025-08-21T08:23:14.742666Z",
     "iopub.status.busy": "2025-08-21T08:23:14.742378Z",
     "iopub.status.idle": "2025-08-21T08:23:14.752346Z",
     "shell.execute_reply": "2025-08-21T08:23:14.751312Z"
    },
    "papermill": {
     "duration": 0.016459,
     "end_time": "2025-08-21T08:23:14.753693",
     "exception": false,
     "start_time": "2025-08-21T08:23:14.737234",
     "status": "completed"
    },
    "tags": []
   },
   "outputs": [],
   "source": [
    "df = pd.get_dummies(df,columns=['BloodPressure','SkinThickness'],drop_first=True)"
   ]
  },
  {
   "cell_type": "code",
   "execution_count": 12,
   "id": "4d4fd3af",
   "metadata": {
    "execution": {
     "iopub.execute_input": "2025-08-21T08:23:14.764320Z",
     "iopub.status.busy": "2025-08-21T08:23:14.764077Z",
     "iopub.status.idle": "2025-08-21T08:23:14.785960Z",
     "shell.execute_reply": "2025-08-21T08:23:14.785306Z"
    },
    "papermill": {
     "duration": 0.028284,
     "end_time": "2025-08-21T08:23:14.787020",
     "exception": false,
     "start_time": "2025-08-21T08:23:14.758736",
     "status": "completed"
    },
    "tags": []
   },
   "outputs": [
    {
     "data": {
      "text/html": [
       "<div>\n",
       "<style scoped>\n",
       "    .dataframe tbody tr th:only-of-type {\n",
       "        vertical-align: middle;\n",
       "    }\n",
       "\n",
       "    .dataframe tbody tr th {\n",
       "        vertical-align: top;\n",
       "    }\n",
       "\n",
       "    .dataframe thead th {\n",
       "        text-align: right;\n",
       "    }\n",
       "</style>\n",
       "<table border=\"1\" class=\"dataframe\">\n",
       "  <thead>\n",
       "    <tr style=\"text-align: right;\">\n",
       "      <th></th>\n",
       "      <th>Pregnancies</th>\n",
       "      <th>DiabetesPedigreeFunction</th>\n",
       "      <th>BloodPressure_24</th>\n",
       "      <th>BloodPressure_30</th>\n",
       "      <th>BloodPressure_38</th>\n",
       "      <th>BloodPressure_40</th>\n",
       "      <th>BloodPressure_44</th>\n",
       "      <th>BloodPressure_46</th>\n",
       "      <th>BloodPressure_48</th>\n",
       "      <th>BloodPressure_50</th>\n",
       "      <th>...</th>\n",
       "      <th>SkinThickness_48</th>\n",
       "      <th>SkinThickness_49</th>\n",
       "      <th>SkinThickness_50</th>\n",
       "      <th>SkinThickness_51</th>\n",
       "      <th>SkinThickness_52</th>\n",
       "      <th>SkinThickness_54</th>\n",
       "      <th>SkinThickness_56</th>\n",
       "      <th>SkinThickness_60</th>\n",
       "      <th>SkinThickness_63</th>\n",
       "      <th>SkinThickness_99</th>\n",
       "    </tr>\n",
       "  </thead>\n",
       "  <tbody>\n",
       "    <tr>\n",
       "      <th>0</th>\n",
       "      <td>6</td>\n",
       "      <td>0.627</td>\n",
       "      <td>False</td>\n",
       "      <td>False</td>\n",
       "      <td>False</td>\n",
       "      <td>False</td>\n",
       "      <td>False</td>\n",
       "      <td>False</td>\n",
       "      <td>False</td>\n",
       "      <td>False</td>\n",
       "      <td>...</td>\n",
       "      <td>False</td>\n",
       "      <td>False</td>\n",
       "      <td>False</td>\n",
       "      <td>False</td>\n",
       "      <td>False</td>\n",
       "      <td>False</td>\n",
       "      <td>False</td>\n",
       "      <td>False</td>\n",
       "      <td>False</td>\n",
       "      <td>False</td>\n",
       "    </tr>\n",
       "    <tr>\n",
       "      <th>1</th>\n",
       "      <td>1</td>\n",
       "      <td>0.351</td>\n",
       "      <td>False</td>\n",
       "      <td>False</td>\n",
       "      <td>False</td>\n",
       "      <td>False</td>\n",
       "      <td>False</td>\n",
       "      <td>False</td>\n",
       "      <td>False</td>\n",
       "      <td>False</td>\n",
       "      <td>...</td>\n",
       "      <td>False</td>\n",
       "      <td>False</td>\n",
       "      <td>False</td>\n",
       "      <td>False</td>\n",
       "      <td>False</td>\n",
       "      <td>False</td>\n",
       "      <td>False</td>\n",
       "      <td>False</td>\n",
       "      <td>False</td>\n",
       "      <td>False</td>\n",
       "    </tr>\n",
       "    <tr>\n",
       "      <th>2</th>\n",
       "      <td>8</td>\n",
       "      <td>0.672</td>\n",
       "      <td>False</td>\n",
       "      <td>False</td>\n",
       "      <td>False</td>\n",
       "      <td>False</td>\n",
       "      <td>False</td>\n",
       "      <td>False</td>\n",
       "      <td>False</td>\n",
       "      <td>False</td>\n",
       "      <td>...</td>\n",
       "      <td>False</td>\n",
       "      <td>False</td>\n",
       "      <td>False</td>\n",
       "      <td>False</td>\n",
       "      <td>False</td>\n",
       "      <td>False</td>\n",
       "      <td>False</td>\n",
       "      <td>False</td>\n",
       "      <td>False</td>\n",
       "      <td>False</td>\n",
       "    </tr>\n",
       "    <tr>\n",
       "      <th>3</th>\n",
       "      <td>1</td>\n",
       "      <td>0.167</td>\n",
       "      <td>False</td>\n",
       "      <td>False</td>\n",
       "      <td>False</td>\n",
       "      <td>False</td>\n",
       "      <td>False</td>\n",
       "      <td>False</td>\n",
       "      <td>False</td>\n",
       "      <td>False</td>\n",
       "      <td>...</td>\n",
       "      <td>False</td>\n",
       "      <td>False</td>\n",
       "      <td>False</td>\n",
       "      <td>False</td>\n",
       "      <td>False</td>\n",
       "      <td>False</td>\n",
       "      <td>False</td>\n",
       "      <td>False</td>\n",
       "      <td>False</td>\n",
       "      <td>False</td>\n",
       "    </tr>\n",
       "    <tr>\n",
       "      <th>4</th>\n",
       "      <td>0</td>\n",
       "      <td>2.288</td>\n",
       "      <td>False</td>\n",
       "      <td>False</td>\n",
       "      <td>False</td>\n",
       "      <td>True</td>\n",
       "      <td>False</td>\n",
       "      <td>False</td>\n",
       "      <td>False</td>\n",
       "      <td>False</td>\n",
       "      <td>...</td>\n",
       "      <td>False</td>\n",
       "      <td>False</td>\n",
       "      <td>False</td>\n",
       "      <td>False</td>\n",
       "      <td>False</td>\n",
       "      <td>False</td>\n",
       "      <td>False</td>\n",
       "      <td>False</td>\n",
       "      <td>False</td>\n",
       "      <td>False</td>\n",
       "    </tr>\n",
       "  </tbody>\n",
       "</table>\n",
       "<p>5 rows × 98 columns</p>\n",
       "</div>"
      ],
      "text/plain": [
       "   Pregnancies  DiabetesPedigreeFunction  BloodPressure_24  BloodPressure_30  \\\n",
       "0            6                     0.627             False             False   \n",
       "1            1                     0.351             False             False   \n",
       "2            8                     0.672             False             False   \n",
       "3            1                     0.167             False             False   \n",
       "4            0                     2.288             False             False   \n",
       "\n",
       "   BloodPressure_38  BloodPressure_40  BloodPressure_44  BloodPressure_46  \\\n",
       "0             False             False             False             False   \n",
       "1             False             False             False             False   \n",
       "2             False             False             False             False   \n",
       "3             False             False             False             False   \n",
       "4             False              True             False             False   \n",
       "\n",
       "   BloodPressure_48  BloodPressure_50  ...  SkinThickness_48  \\\n",
       "0             False             False  ...             False   \n",
       "1             False             False  ...             False   \n",
       "2             False             False  ...             False   \n",
       "3             False             False  ...             False   \n",
       "4             False             False  ...             False   \n",
       "\n",
       "   SkinThickness_49  SkinThickness_50  SkinThickness_51  SkinThickness_52  \\\n",
       "0             False             False             False             False   \n",
       "1             False             False             False             False   \n",
       "2             False             False             False             False   \n",
       "3             False             False             False             False   \n",
       "4             False             False             False             False   \n",
       "\n",
       "   SkinThickness_54  SkinThickness_56  SkinThickness_60  SkinThickness_63  \\\n",
       "0             False             False             False             False   \n",
       "1             False             False             False             False   \n",
       "2             False             False             False             False   \n",
       "3             False             False             False             False   \n",
       "4             False             False             False             False   \n",
       "\n",
       "   SkinThickness_99  \n",
       "0             False  \n",
       "1             False  \n",
       "2             False  \n",
       "3             False  \n",
       "4             False  \n",
       "\n",
       "[5 rows x 98 columns]"
      ]
     },
     "execution_count": 12,
     "metadata": {},
     "output_type": "execute_result"
    }
   ],
   "source": [
    "df.head()"
   ]
  },
  {
   "cell_type": "code",
   "execution_count": 13,
   "id": "5b828217",
   "metadata": {
    "execution": {
     "iopub.execute_input": "2025-08-21T08:23:14.798262Z",
     "iopub.status.busy": "2025-08-21T08:23:14.797956Z",
     "iopub.status.idle": "2025-08-21T08:23:16.688967Z",
     "shell.execute_reply": "2025-08-21T08:23:16.687912Z"
    },
    "papermill": {
     "duration": 1.898155,
     "end_time": "2025-08-21T08:23:16.690346",
     "exception": false,
     "start_time": "2025-08-21T08:23:14.792191",
     "status": "completed"
    },
    "tags": []
   },
   "outputs": [],
   "source": [
    "X = df.drop(columns=['Pregnancies'])\n",
    "y = df['Pregnancies'].values\n",
    "\n",
    "from sklearn.model_selection import train_test_split\n",
    "X_train,X_test,y_train,y_test = train_test_split(X,y,test_size=0.2,random_state=0)"
   ]
  },
  {
   "cell_type": "code",
   "execution_count": 14,
   "id": "60a366fc",
   "metadata": {
    "execution": {
     "iopub.execute_input": "2025-08-21T08:23:16.703171Z",
     "iopub.status.busy": "2025-08-21T08:23:16.702724Z",
     "iopub.status.idle": "2025-08-21T08:23:16.722453Z",
     "shell.execute_reply": "2025-08-21T08:23:16.721127Z"
    },
    "papermill": {
     "duration": 0.02737,
     "end_time": "2025-08-21T08:23:16.723933",
     "exception": false,
     "start_time": "2025-08-21T08:23:16.696563",
     "status": "completed"
    },
    "tags": []
   },
   "outputs": [
    {
     "data": {
      "text/html": [
       "<div>\n",
       "<style scoped>\n",
       "    .dataframe tbody tr th:only-of-type {\n",
       "        vertical-align: middle;\n",
       "    }\n",
       "\n",
       "    .dataframe tbody tr th {\n",
       "        vertical-align: top;\n",
       "    }\n",
       "\n",
       "    .dataframe thead th {\n",
       "        text-align: right;\n",
       "    }\n",
       "</style>\n",
       "<table border=\"1\" class=\"dataframe\">\n",
       "  <thead>\n",
       "    <tr style=\"text-align: right;\">\n",
       "      <th></th>\n",
       "      <th>DiabetesPedigreeFunction</th>\n",
       "      <th>BloodPressure_24</th>\n",
       "      <th>BloodPressure_30</th>\n",
       "      <th>BloodPressure_38</th>\n",
       "      <th>BloodPressure_40</th>\n",
       "      <th>BloodPressure_44</th>\n",
       "      <th>BloodPressure_46</th>\n",
       "      <th>BloodPressure_48</th>\n",
       "      <th>BloodPressure_50</th>\n",
       "      <th>BloodPressure_52</th>\n",
       "      <th>...</th>\n",
       "      <th>SkinThickness_48</th>\n",
       "      <th>SkinThickness_49</th>\n",
       "      <th>SkinThickness_50</th>\n",
       "      <th>SkinThickness_51</th>\n",
       "      <th>SkinThickness_52</th>\n",
       "      <th>SkinThickness_54</th>\n",
       "      <th>SkinThickness_56</th>\n",
       "      <th>SkinThickness_60</th>\n",
       "      <th>SkinThickness_63</th>\n",
       "      <th>SkinThickness_99</th>\n",
       "    </tr>\n",
       "  </thead>\n",
       "  <tbody>\n",
       "    <tr>\n",
       "      <th>0</th>\n",
       "      <td>0.627</td>\n",
       "      <td>False</td>\n",
       "      <td>False</td>\n",
       "      <td>False</td>\n",
       "      <td>False</td>\n",
       "      <td>False</td>\n",
       "      <td>False</td>\n",
       "      <td>False</td>\n",
       "      <td>False</td>\n",
       "      <td>False</td>\n",
       "      <td>...</td>\n",
       "      <td>False</td>\n",
       "      <td>False</td>\n",
       "      <td>False</td>\n",
       "      <td>False</td>\n",
       "      <td>False</td>\n",
       "      <td>False</td>\n",
       "      <td>False</td>\n",
       "      <td>False</td>\n",
       "      <td>False</td>\n",
       "      <td>False</td>\n",
       "    </tr>\n",
       "    <tr>\n",
       "      <th>1</th>\n",
       "      <td>0.351</td>\n",
       "      <td>False</td>\n",
       "      <td>False</td>\n",
       "      <td>False</td>\n",
       "      <td>False</td>\n",
       "      <td>False</td>\n",
       "      <td>False</td>\n",
       "      <td>False</td>\n",
       "      <td>False</td>\n",
       "      <td>False</td>\n",
       "      <td>...</td>\n",
       "      <td>False</td>\n",
       "      <td>False</td>\n",
       "      <td>False</td>\n",
       "      <td>False</td>\n",
       "      <td>False</td>\n",
       "      <td>False</td>\n",
       "      <td>False</td>\n",
       "      <td>False</td>\n",
       "      <td>False</td>\n",
       "      <td>False</td>\n",
       "    </tr>\n",
       "    <tr>\n",
       "      <th>2</th>\n",
       "      <td>0.672</td>\n",
       "      <td>False</td>\n",
       "      <td>False</td>\n",
       "      <td>False</td>\n",
       "      <td>False</td>\n",
       "      <td>False</td>\n",
       "      <td>False</td>\n",
       "      <td>False</td>\n",
       "      <td>False</td>\n",
       "      <td>False</td>\n",
       "      <td>...</td>\n",
       "      <td>False</td>\n",
       "      <td>False</td>\n",
       "      <td>False</td>\n",
       "      <td>False</td>\n",
       "      <td>False</td>\n",
       "      <td>False</td>\n",
       "      <td>False</td>\n",
       "      <td>False</td>\n",
       "      <td>False</td>\n",
       "      <td>False</td>\n",
       "    </tr>\n",
       "    <tr>\n",
       "      <th>3</th>\n",
       "      <td>0.167</td>\n",
       "      <td>False</td>\n",
       "      <td>False</td>\n",
       "      <td>False</td>\n",
       "      <td>False</td>\n",
       "      <td>False</td>\n",
       "      <td>False</td>\n",
       "      <td>False</td>\n",
       "      <td>False</td>\n",
       "      <td>False</td>\n",
       "      <td>...</td>\n",
       "      <td>False</td>\n",
       "      <td>False</td>\n",
       "      <td>False</td>\n",
       "      <td>False</td>\n",
       "      <td>False</td>\n",
       "      <td>False</td>\n",
       "      <td>False</td>\n",
       "      <td>False</td>\n",
       "      <td>False</td>\n",
       "      <td>False</td>\n",
       "    </tr>\n",
       "    <tr>\n",
       "      <th>4</th>\n",
       "      <td>2.288</td>\n",
       "      <td>False</td>\n",
       "      <td>False</td>\n",
       "      <td>False</td>\n",
       "      <td>True</td>\n",
       "      <td>False</td>\n",
       "      <td>False</td>\n",
       "      <td>False</td>\n",
       "      <td>False</td>\n",
       "      <td>False</td>\n",
       "      <td>...</td>\n",
       "      <td>False</td>\n",
       "      <td>False</td>\n",
       "      <td>False</td>\n",
       "      <td>False</td>\n",
       "      <td>False</td>\n",
       "      <td>False</td>\n",
       "      <td>False</td>\n",
       "      <td>False</td>\n",
       "      <td>False</td>\n",
       "      <td>False</td>\n",
       "    </tr>\n",
       "    <tr>\n",
       "      <th>...</th>\n",
       "      <td>...</td>\n",
       "      <td>...</td>\n",
       "      <td>...</td>\n",
       "      <td>...</td>\n",
       "      <td>...</td>\n",
       "      <td>...</td>\n",
       "      <td>...</td>\n",
       "      <td>...</td>\n",
       "      <td>...</td>\n",
       "      <td>...</td>\n",
       "      <td>...</td>\n",
       "      <td>...</td>\n",
       "      <td>...</td>\n",
       "      <td>...</td>\n",
       "      <td>...</td>\n",
       "      <td>...</td>\n",
       "      <td>...</td>\n",
       "      <td>...</td>\n",
       "      <td>...</td>\n",
       "      <td>...</td>\n",
       "      <td>...</td>\n",
       "    </tr>\n",
       "    <tr>\n",
       "      <th>763</th>\n",
       "      <td>0.171</td>\n",
       "      <td>False</td>\n",
       "      <td>False</td>\n",
       "      <td>False</td>\n",
       "      <td>False</td>\n",
       "      <td>False</td>\n",
       "      <td>False</td>\n",
       "      <td>False</td>\n",
       "      <td>False</td>\n",
       "      <td>False</td>\n",
       "      <td>...</td>\n",
       "      <td>True</td>\n",
       "      <td>False</td>\n",
       "      <td>False</td>\n",
       "      <td>False</td>\n",
       "      <td>False</td>\n",
       "      <td>False</td>\n",
       "      <td>False</td>\n",
       "      <td>False</td>\n",
       "      <td>False</td>\n",
       "      <td>False</td>\n",
       "    </tr>\n",
       "    <tr>\n",
       "      <th>764</th>\n",
       "      <td>0.340</td>\n",
       "      <td>False</td>\n",
       "      <td>False</td>\n",
       "      <td>False</td>\n",
       "      <td>False</td>\n",
       "      <td>False</td>\n",
       "      <td>False</td>\n",
       "      <td>False</td>\n",
       "      <td>False</td>\n",
       "      <td>False</td>\n",
       "      <td>...</td>\n",
       "      <td>False</td>\n",
       "      <td>False</td>\n",
       "      <td>False</td>\n",
       "      <td>False</td>\n",
       "      <td>False</td>\n",
       "      <td>False</td>\n",
       "      <td>False</td>\n",
       "      <td>False</td>\n",
       "      <td>False</td>\n",
       "      <td>False</td>\n",
       "    </tr>\n",
       "    <tr>\n",
       "      <th>765</th>\n",
       "      <td>0.245</td>\n",
       "      <td>False</td>\n",
       "      <td>False</td>\n",
       "      <td>False</td>\n",
       "      <td>False</td>\n",
       "      <td>False</td>\n",
       "      <td>False</td>\n",
       "      <td>False</td>\n",
       "      <td>False</td>\n",
       "      <td>False</td>\n",
       "      <td>...</td>\n",
       "      <td>False</td>\n",
       "      <td>False</td>\n",
       "      <td>False</td>\n",
       "      <td>False</td>\n",
       "      <td>False</td>\n",
       "      <td>False</td>\n",
       "      <td>False</td>\n",
       "      <td>False</td>\n",
       "      <td>False</td>\n",
       "      <td>False</td>\n",
       "    </tr>\n",
       "    <tr>\n",
       "      <th>766</th>\n",
       "      <td>0.349</td>\n",
       "      <td>False</td>\n",
       "      <td>False</td>\n",
       "      <td>False</td>\n",
       "      <td>False</td>\n",
       "      <td>False</td>\n",
       "      <td>False</td>\n",
       "      <td>False</td>\n",
       "      <td>False</td>\n",
       "      <td>False</td>\n",
       "      <td>...</td>\n",
       "      <td>False</td>\n",
       "      <td>False</td>\n",
       "      <td>False</td>\n",
       "      <td>False</td>\n",
       "      <td>False</td>\n",
       "      <td>False</td>\n",
       "      <td>False</td>\n",
       "      <td>False</td>\n",
       "      <td>False</td>\n",
       "      <td>False</td>\n",
       "    </tr>\n",
       "    <tr>\n",
       "      <th>767</th>\n",
       "      <td>0.315</td>\n",
       "      <td>False</td>\n",
       "      <td>False</td>\n",
       "      <td>False</td>\n",
       "      <td>False</td>\n",
       "      <td>False</td>\n",
       "      <td>False</td>\n",
       "      <td>False</td>\n",
       "      <td>False</td>\n",
       "      <td>False</td>\n",
       "      <td>...</td>\n",
       "      <td>False</td>\n",
       "      <td>False</td>\n",
       "      <td>False</td>\n",
       "      <td>False</td>\n",
       "      <td>False</td>\n",
       "      <td>False</td>\n",
       "      <td>False</td>\n",
       "      <td>False</td>\n",
       "      <td>False</td>\n",
       "      <td>False</td>\n",
       "    </tr>\n",
       "  </tbody>\n",
       "</table>\n",
       "<p>768 rows × 97 columns</p>\n",
       "</div>"
      ],
      "text/plain": [
       "     DiabetesPedigreeFunction  BloodPressure_24  BloodPressure_30  \\\n",
       "0                       0.627             False             False   \n",
       "1                       0.351             False             False   \n",
       "2                       0.672             False             False   \n",
       "3                       0.167             False             False   \n",
       "4                       2.288             False             False   \n",
       "..                        ...               ...               ...   \n",
       "763                     0.171             False             False   \n",
       "764                     0.340             False             False   \n",
       "765                     0.245             False             False   \n",
       "766                     0.349             False             False   \n",
       "767                     0.315             False             False   \n",
       "\n",
       "     BloodPressure_38  BloodPressure_40  BloodPressure_44  BloodPressure_46  \\\n",
       "0               False             False             False             False   \n",
       "1               False             False             False             False   \n",
       "2               False             False             False             False   \n",
       "3               False             False             False             False   \n",
       "4               False              True             False             False   \n",
       "..                ...               ...               ...               ...   \n",
       "763             False             False             False             False   \n",
       "764             False             False             False             False   \n",
       "765             False             False             False             False   \n",
       "766             False             False             False             False   \n",
       "767             False             False             False             False   \n",
       "\n",
       "     BloodPressure_48  BloodPressure_50  BloodPressure_52  ...  \\\n",
       "0               False             False             False  ...   \n",
       "1               False             False             False  ...   \n",
       "2               False             False             False  ...   \n",
       "3               False             False             False  ...   \n",
       "4               False             False             False  ...   \n",
       "..                ...               ...               ...  ...   \n",
       "763             False             False             False  ...   \n",
       "764             False             False             False  ...   \n",
       "765             False             False             False  ...   \n",
       "766             False             False             False  ...   \n",
       "767             False             False             False  ...   \n",
       "\n",
       "     SkinThickness_48  SkinThickness_49  SkinThickness_50  SkinThickness_51  \\\n",
       "0               False             False             False             False   \n",
       "1               False             False             False             False   \n",
       "2               False             False             False             False   \n",
       "3               False             False             False             False   \n",
       "4               False             False             False             False   \n",
       "..                ...               ...               ...               ...   \n",
       "763              True             False             False             False   \n",
       "764             False             False             False             False   \n",
       "765             False             False             False             False   \n",
       "766             False             False             False             False   \n",
       "767             False             False             False             False   \n",
       "\n",
       "     SkinThickness_52  SkinThickness_54  SkinThickness_56  SkinThickness_60  \\\n",
       "0               False             False             False             False   \n",
       "1               False             False             False             False   \n",
       "2               False             False             False             False   \n",
       "3               False             False             False             False   \n",
       "4               False             False             False             False   \n",
       "..                ...               ...               ...               ...   \n",
       "763             False             False             False             False   \n",
       "764             False             False             False             False   \n",
       "765             False             False             False             False   \n",
       "766             False             False             False             False   \n",
       "767             False             False             False             False   \n",
       "\n",
       "     SkinThickness_63  SkinThickness_99  \n",
       "0               False             False  \n",
       "1               False             False  \n",
       "2               False             False  \n",
       "3               False             False  \n",
       "4               False             False  \n",
       "..                ...               ...  \n",
       "763             False             False  \n",
       "764             False             False  \n",
       "765             False             False  \n",
       "766             False             False  \n",
       "767             False             False  \n",
       "\n",
       "[768 rows x 97 columns]"
      ]
     },
     "execution_count": 14,
     "metadata": {},
     "output_type": "execute_result"
    }
   ],
   "source": [
    "X"
   ]
  },
  {
   "cell_type": "code",
   "execution_count": 15,
   "id": "4eb7489d",
   "metadata": {
    "execution": {
     "iopub.execute_input": "2025-08-21T08:23:16.738312Z",
     "iopub.status.busy": "2025-08-21T08:23:16.738035Z",
     "iopub.status.idle": "2025-08-21T08:23:16.745620Z",
     "shell.execute_reply": "2025-08-21T08:23:16.744357Z"
    },
    "papermill": {
     "duration": 0.015349,
     "end_time": "2025-08-21T08:23:16.746910",
     "exception": false,
     "start_time": "2025-08-21T08:23:16.731561",
     "status": "completed"
    },
    "tags": []
   },
   "outputs": [
    {
     "data": {
      "text/plain": [
       "array([ 6,  1,  8,  1,  0,  5,  3, 10,  2,  8,  4, 10, 10,  1,  5,  7,  0,\n",
       "        7,  1,  1,  3,  8,  7,  9, 11, 10,  7,  1, 13,  5,  5,  3,  3,  6,\n",
       "       10,  4, 11,  9,  2,  4,  3,  7,  7,  9,  7,  0,  1,  2,  7,  7,  1,\n",
       "        1,  5,  8,  7,  1,  7,  0,  0,  0,  2,  8,  5,  2,  7,  5,  0,  2,\n",
       "        1,  4,  2,  5, 13,  4,  1,  1,  7,  5,  0,  2,  3,  2,  7,  0,  5,\n",
       "        2, 13,  2, 15,  1,  1,  4,  7,  4,  2,  6,  2,  1,  6,  1,  1,  1,\n",
       "        0,  1,  2,  1,  1,  4,  3,  0,  3,  8,  1,  4,  7,  4,  5,  5,  4,\n",
       "        4,  0,  6,  2,  5,  0,  1,  3,  1,  1,  0,  4,  9,  3,  8,  2,  2,\n",
       "        0,  0,  0,  5,  3,  5,  2, 10,  4,  0,  9,  2,  5,  2,  1,  4,  9,\n",
       "        1,  8,  7,  2,  1,  2, 17,  4,  7,  0,  2,  0,  6,  3,  4,  4,  3,\n",
       "        6,  6,  2,  1,  2,  8,  6,  0,  5,  5,  6,  0,  1,  5,  4,  7,  8,\n",
       "        1,  8,  5,  3,  9,  7, 11,  8,  5,  1,  3,  4,  4,  0,  1,  0,  2,\n",
       "        6,  5,  8,  5,  1,  7,  2,  0,  7,  0,  9, 12,  5,  6,  5,  5,  0,\n",
       "        2,  7,  7,  1,  1,  0,  3,  4,  0,  4,  6,  1,  4,  3,  4,  7,  0,\n",
       "        9,  0,  1,  4,  3,  6,  2,  9, 10,  0,  9,  1,  9,  2,  2,  0, 12,\n",
       "        1,  3,  2,  1, 11,  3,  3,  4,  3,  4,  5,  0,  2,  0,  2, 10,  2,\n",
       "        3,  1, 13,  2,  7,  0,  5,  2,  0, 10,  7,  7,  2,  7,  5,  1,  4,\n",
       "        5,  0,  0,  2,  1,  0,  6,  2,  0, 14,  8,  0,  2,  5,  5,  3,  2,\n",
       "       10,  0,  0,  2,  6,  0,  2,  3,  7,  2,  3,  3,  3,  6,  4,  3,  0,\n",
       "       13,  2,  1,  1, 10,  2,  6,  8,  2,  1, 12,  1,  0,  0,  5,  9,  7,\n",
       "        1,  1,  1,  5,  8,  8,  1,  3,  3,  5,  4,  4,  3,  1,  3,  9,  1,\n",
       "       13, 12,  1,  5,  5,  5,  4,  4,  5,  6,  0,  3,  1,  3,  0,  0,  2,\n",
       "        2, 12,  0,  1,  4,  0,  1,  0,  1,  1,  1,  1,  5,  8,  5,  3,  1,\n",
       "        5,  1,  4,  4,  2,  3,  0,  3,  3,  4,  6,  5,  9,  5,  2,  4,  0,\n",
       "        8,  1,  6,  1,  1,  1,  0,  3,  1,  4,  1,  3,  1,  2,  0,  2,  8,\n",
       "        4,  0,  1,  0,  1,  2,  3,  1,  2,  1,  0, 12,  5,  1,  6,  0,  2,\n",
       "        4,  8,  4,  0,  1,  0,  0,  0,  1,  2,  0,  2,  2, 14,  1,  5, 10,\n",
       "        9,  9,  1,  8,  5, 10,  0,  0,  0,  8,  6,  1,  0,  0,  7,  4,  0,\n",
       "        2,  7,  8,  4,  3,  0,  4,  0,  0,  0,  1,  0,  4,  8,  2,  2,  4,\n",
       "        4,  3,  6,  5,  2,  7,  6,  2,  3,  6,  7,  3, 10,  0,  1,  2,  8,\n",
       "       12,  0,  9,  2,  3,  3,  9,  7, 13,  6,  2,  3,  6,  9,  3,  3,  1,\n",
       "        3,  0,  0,  2,  0,  1,  6,  1,  4,  0,  0,  0,  3,  8,  3, 10,  4,\n",
       "        1,  8,  5,  4,  1,  4,  1,  3,  6,  1,  1,  7,  1,  8, 11, 11,  6,\n",
       "        0,  1,  6,  0,  2,  1,  6,  4,  0,  3,  2,  3,  2,  1,  1,  6,  2,\n",
       "       10,  2,  0,  6, 12,  8,  8,  1,  8,  6,  3,  0, 11,  2,  3,  2,  6,\n",
       "        0,  0,  1,  1,  1,  1,  6,  1,  7,  4,  1,  1,  1,  0,  1,  3,  3,\n",
       "        7,  6, 11,  3,  6,  2,  9,  0,  2,  2,  6,  0,  2,  4,  0,  0,  5,\n",
       "        4,  7,  0,  2,  1, 10, 13,  5,  2,  7,  1,  0,  4,  6,  4,  3,  2,\n",
       "        1,  0, 11,  0,  1,  1,  5,  2,  1,  2,  2,  1, 11,  3, 10,  1,  8,\n",
       "        9,  6,  1,  4, 10,  6,  9,  6,  1, 10,  3,  8,  6,  9,  0,  3,  2,\n",
       "        2,  0,  0,  4,  5,  2,  3,  1,  1,  1,  8, 13,  2,  7,  2,  7,  3,\n",
       "        0,  4,  4,  2,  6,  1,  2,  4,  6, 10,  2,  9,  2,  3,  5, 10,  0,\n",
       "        3,  7,  3, 10,  1,  5,  4,  1,  1,  5,  1,  4,  1,  0,  2,  2,  3,\n",
       "        8,  2,  2,  2,  4,  0,  8,  2,  1, 11,  3,  1,  9, 13, 12,  1,  1,\n",
       "        3,  6,  4,  1,  3,  0,  8,  1,  7,  0,  1,  6,  2,  9,  9, 10,  2,\n",
       "        5,  1,  1])"
      ]
     },
     "execution_count": 15,
     "metadata": {},
     "output_type": "execute_result"
    }
   ],
   "source": [
    "y"
   ]
  },
  {
   "cell_type": "code",
   "execution_count": 16,
   "id": "ae8a9cab",
   "metadata": {
    "execution": {
     "iopub.execute_input": "2025-08-21T08:23:16.759103Z",
     "iopub.status.busy": "2025-08-21T08:23:16.758832Z",
     "iopub.status.idle": "2025-08-21T08:23:16.780813Z",
     "shell.execute_reply": "2025-08-21T08:23:16.779473Z"
    },
    "papermill": {
     "duration": 0.030534,
     "end_time": "2025-08-21T08:23:16.783111",
     "exception": false,
     "start_time": "2025-08-21T08:23:16.752577",
     "status": "completed"
    },
    "tags": []
   },
   "outputs": [
    {
     "data": {
      "text/html": [
       "<div>\n",
       "<style scoped>\n",
       "    .dataframe tbody tr th:only-of-type {\n",
       "        vertical-align: middle;\n",
       "    }\n",
       "\n",
       "    .dataframe tbody tr th {\n",
       "        vertical-align: top;\n",
       "    }\n",
       "\n",
       "    .dataframe thead th {\n",
       "        text-align: right;\n",
       "    }\n",
       "</style>\n",
       "<table border=\"1\" class=\"dataframe\">\n",
       "  <thead>\n",
       "    <tr style=\"text-align: right;\">\n",
       "      <th></th>\n",
       "      <th>DiabetesPedigreeFunction</th>\n",
       "      <th>BloodPressure_24</th>\n",
       "      <th>BloodPressure_30</th>\n",
       "      <th>BloodPressure_38</th>\n",
       "      <th>BloodPressure_40</th>\n",
       "      <th>BloodPressure_44</th>\n",
       "      <th>BloodPressure_46</th>\n",
       "      <th>BloodPressure_48</th>\n",
       "      <th>BloodPressure_50</th>\n",
       "      <th>BloodPressure_52</th>\n",
       "      <th>...</th>\n",
       "      <th>SkinThickness_48</th>\n",
       "      <th>SkinThickness_49</th>\n",
       "      <th>SkinThickness_50</th>\n",
       "      <th>SkinThickness_51</th>\n",
       "      <th>SkinThickness_52</th>\n",
       "      <th>SkinThickness_54</th>\n",
       "      <th>SkinThickness_56</th>\n",
       "      <th>SkinThickness_60</th>\n",
       "      <th>SkinThickness_63</th>\n",
       "      <th>SkinThickness_99</th>\n",
       "    </tr>\n",
       "  </thead>\n",
       "  <tbody>\n",
       "    <tr>\n",
       "      <th>603</th>\n",
       "      <td>0.692</td>\n",
       "      <td>False</td>\n",
       "      <td>False</td>\n",
       "      <td>False</td>\n",
       "      <td>False</td>\n",
       "      <td>False</td>\n",
       "      <td>False</td>\n",
       "      <td>False</td>\n",
       "      <td>False</td>\n",
       "      <td>False</td>\n",
       "      <td>...</td>\n",
       "      <td>False</td>\n",
       "      <td>False</td>\n",
       "      <td>False</td>\n",
       "      <td>False</td>\n",
       "      <td>False</td>\n",
       "      <td>False</td>\n",
       "      <td>False</td>\n",
       "      <td>False</td>\n",
       "      <td>False</td>\n",
       "      <td>False</td>\n",
       "    </tr>\n",
       "    <tr>\n",
       "      <th>118</th>\n",
       "      <td>0.443</td>\n",
       "      <td>False</td>\n",
       "      <td>False</td>\n",
       "      <td>False</td>\n",
       "      <td>False</td>\n",
       "      <td>False</td>\n",
       "      <td>False</td>\n",
       "      <td>False</td>\n",
       "      <td>False</td>\n",
       "      <td>False</td>\n",
       "      <td>...</td>\n",
       "      <td>False</td>\n",
       "      <td>False</td>\n",
       "      <td>False</td>\n",
       "      <td>False</td>\n",
       "      <td>False</td>\n",
       "      <td>False</td>\n",
       "      <td>False</td>\n",
       "      <td>False</td>\n",
       "      <td>False</td>\n",
       "      <td>False</td>\n",
       "    </tr>\n",
       "    <tr>\n",
       "      <th>247</th>\n",
       "      <td>0.427</td>\n",
       "      <td>False</td>\n",
       "      <td>False</td>\n",
       "      <td>False</td>\n",
       "      <td>False</td>\n",
       "      <td>False</td>\n",
       "      <td>False</td>\n",
       "      <td>False</td>\n",
       "      <td>False</td>\n",
       "      <td>False</td>\n",
       "      <td>...</td>\n",
       "      <td>False</td>\n",
       "      <td>False</td>\n",
       "      <td>False</td>\n",
       "      <td>False</td>\n",
       "      <td>False</td>\n",
       "      <td>False</td>\n",
       "      <td>False</td>\n",
       "      <td>False</td>\n",
       "      <td>False</td>\n",
       "      <td>False</td>\n",
       "    </tr>\n",
       "    <tr>\n",
       "      <th>157</th>\n",
       "      <td>0.833</td>\n",
       "      <td>False</td>\n",
       "      <td>False</td>\n",
       "      <td>False</td>\n",
       "      <td>False</td>\n",
       "      <td>False</td>\n",
       "      <td>False</td>\n",
       "      <td>False</td>\n",
       "      <td>False</td>\n",
       "      <td>False</td>\n",
       "      <td>...</td>\n",
       "      <td>False</td>\n",
       "      <td>False</td>\n",
       "      <td>False</td>\n",
       "      <td>False</td>\n",
       "      <td>False</td>\n",
       "      <td>False</td>\n",
       "      <td>False</td>\n",
       "      <td>False</td>\n",
       "      <td>False</td>\n",
       "      <td>False</td>\n",
       "    </tr>\n",
       "    <tr>\n",
       "      <th>468</th>\n",
       "      <td>0.183</td>\n",
       "      <td>False</td>\n",
       "      <td>False</td>\n",
       "      <td>False</td>\n",
       "      <td>False</td>\n",
       "      <td>False</td>\n",
       "      <td>False</td>\n",
       "      <td>False</td>\n",
       "      <td>False</td>\n",
       "      <td>False</td>\n",
       "      <td>...</td>\n",
       "      <td>False</td>\n",
       "      <td>False</td>\n",
       "      <td>False</td>\n",
       "      <td>False</td>\n",
       "      <td>False</td>\n",
       "      <td>False</td>\n",
       "      <td>False</td>\n",
       "      <td>False</td>\n",
       "      <td>False</td>\n",
       "      <td>False</td>\n",
       "    </tr>\n",
       "    <tr>\n",
       "      <th>...</th>\n",
       "      <td>...</td>\n",
       "      <td>...</td>\n",
       "      <td>...</td>\n",
       "      <td>...</td>\n",
       "      <td>...</td>\n",
       "      <td>...</td>\n",
       "      <td>...</td>\n",
       "      <td>...</td>\n",
       "      <td>...</td>\n",
       "      <td>...</td>\n",
       "      <td>...</td>\n",
       "      <td>...</td>\n",
       "      <td>...</td>\n",
       "      <td>...</td>\n",
       "      <td>...</td>\n",
       "      <td>...</td>\n",
       "      <td>...</td>\n",
       "      <td>...</td>\n",
       "      <td>...</td>\n",
       "      <td>...</td>\n",
       "      <td>...</td>\n",
       "    </tr>\n",
       "    <tr>\n",
       "      <th>763</th>\n",
       "      <td>0.171</td>\n",
       "      <td>False</td>\n",
       "      <td>False</td>\n",
       "      <td>False</td>\n",
       "      <td>False</td>\n",
       "      <td>False</td>\n",
       "      <td>False</td>\n",
       "      <td>False</td>\n",
       "      <td>False</td>\n",
       "      <td>False</td>\n",
       "      <td>...</td>\n",
       "      <td>True</td>\n",
       "      <td>False</td>\n",
       "      <td>False</td>\n",
       "      <td>False</td>\n",
       "      <td>False</td>\n",
       "      <td>False</td>\n",
       "      <td>False</td>\n",
       "      <td>False</td>\n",
       "      <td>False</td>\n",
       "      <td>False</td>\n",
       "    </tr>\n",
       "    <tr>\n",
       "      <th>192</th>\n",
       "      <td>0.383</td>\n",
       "      <td>False</td>\n",
       "      <td>False</td>\n",
       "      <td>False</td>\n",
       "      <td>False</td>\n",
       "      <td>False</td>\n",
       "      <td>False</td>\n",
       "      <td>False</td>\n",
       "      <td>False</td>\n",
       "      <td>False</td>\n",
       "      <td>...</td>\n",
       "      <td>False</td>\n",
       "      <td>False</td>\n",
       "      <td>False</td>\n",
       "      <td>False</td>\n",
       "      <td>False</td>\n",
       "      <td>False</td>\n",
       "      <td>False</td>\n",
       "      <td>False</td>\n",
       "      <td>False</td>\n",
       "      <td>False</td>\n",
       "    </tr>\n",
       "    <tr>\n",
       "      <th>629</th>\n",
       "      <td>0.148</td>\n",
       "      <td>False</td>\n",
       "      <td>False</td>\n",
       "      <td>False</td>\n",
       "      <td>False</td>\n",
       "      <td>False</td>\n",
       "      <td>False</td>\n",
       "      <td>False</td>\n",
       "      <td>False</td>\n",
       "      <td>False</td>\n",
       "      <td>...</td>\n",
       "      <td>False</td>\n",
       "      <td>False</td>\n",
       "      <td>False</td>\n",
       "      <td>False</td>\n",
       "      <td>False</td>\n",
       "      <td>False</td>\n",
       "      <td>False</td>\n",
       "      <td>False</td>\n",
       "      <td>False</td>\n",
       "      <td>False</td>\n",
       "    </tr>\n",
       "    <tr>\n",
       "      <th>559</th>\n",
       "      <td>0.300</td>\n",
       "      <td>False</td>\n",
       "      <td>False</td>\n",
       "      <td>False</td>\n",
       "      <td>False</td>\n",
       "      <td>False</td>\n",
       "      <td>False</td>\n",
       "      <td>False</td>\n",
       "      <td>False</td>\n",
       "      <td>False</td>\n",
       "      <td>...</td>\n",
       "      <td>False</td>\n",
       "      <td>False</td>\n",
       "      <td>False</td>\n",
       "      <td>False</td>\n",
       "      <td>False</td>\n",
       "      <td>False</td>\n",
       "      <td>False</td>\n",
       "      <td>False</td>\n",
       "      <td>False</td>\n",
       "      <td>False</td>\n",
       "    </tr>\n",
       "    <tr>\n",
       "      <th>684</th>\n",
       "      <td>0.640</td>\n",
       "      <td>False</td>\n",
       "      <td>False</td>\n",
       "      <td>False</td>\n",
       "      <td>False</td>\n",
       "      <td>False</td>\n",
       "      <td>False</td>\n",
       "      <td>False</td>\n",
       "      <td>False</td>\n",
       "      <td>False</td>\n",
       "      <td>...</td>\n",
       "      <td>False</td>\n",
       "      <td>False</td>\n",
       "      <td>False</td>\n",
       "      <td>False</td>\n",
       "      <td>False</td>\n",
       "      <td>False</td>\n",
       "      <td>False</td>\n",
       "      <td>False</td>\n",
       "      <td>False</td>\n",
       "      <td>False</td>\n",
       "    </tr>\n",
       "  </tbody>\n",
       "</table>\n",
       "<p>614 rows × 97 columns</p>\n",
       "</div>"
      ],
      "text/plain": [
       "     DiabetesPedigreeFunction  BloodPressure_24  BloodPressure_30  \\\n",
       "603                     0.692             False             False   \n",
       "118                     0.443             False             False   \n",
       "247                     0.427             False             False   \n",
       "157                     0.833             False             False   \n",
       "468                     0.183             False             False   \n",
       "..                        ...               ...               ...   \n",
       "763                     0.171             False             False   \n",
       "192                     0.383             False             False   \n",
       "629                     0.148             False             False   \n",
       "559                     0.300             False             False   \n",
       "684                     0.640             False             False   \n",
       "\n",
       "     BloodPressure_38  BloodPressure_40  BloodPressure_44  BloodPressure_46  \\\n",
       "603             False             False             False             False   \n",
       "118             False             False             False             False   \n",
       "247             False             False             False             False   \n",
       "157             False             False             False             False   \n",
       "468             False             False             False             False   \n",
       "..                ...               ...               ...               ...   \n",
       "763             False             False             False             False   \n",
       "192             False             False             False             False   \n",
       "629             False             False             False             False   \n",
       "559             False             False             False             False   \n",
       "684             False             False             False             False   \n",
       "\n",
       "     BloodPressure_48  BloodPressure_50  BloodPressure_52  ...  \\\n",
       "603             False             False             False  ...   \n",
       "118             False             False             False  ...   \n",
       "247             False             False             False  ...   \n",
       "157             False             False             False  ...   \n",
       "468             False             False             False  ...   \n",
       "..                ...               ...               ...  ...   \n",
       "763             False             False             False  ...   \n",
       "192             False             False             False  ...   \n",
       "629             False             False             False  ...   \n",
       "559             False             False             False  ...   \n",
       "684             False             False             False  ...   \n",
       "\n",
       "     SkinThickness_48  SkinThickness_49  SkinThickness_50  SkinThickness_51  \\\n",
       "603             False             False             False             False   \n",
       "118             False             False             False             False   \n",
       "247             False             False             False             False   \n",
       "157             False             False             False             False   \n",
       "468             False             False             False             False   \n",
       "..                ...               ...               ...               ...   \n",
       "763              True             False             False             False   \n",
       "192             False             False             False             False   \n",
       "629             False             False             False             False   \n",
       "559             False             False             False             False   \n",
       "684             False             False             False             False   \n",
       "\n",
       "     SkinThickness_52  SkinThickness_54  SkinThickness_56  SkinThickness_60  \\\n",
       "603             False             False             False             False   \n",
       "118             False             False             False             False   \n",
       "247             False             False             False             False   \n",
       "157             False             False             False             False   \n",
       "468             False             False             False             False   \n",
       "..                ...               ...               ...               ...   \n",
       "763             False             False             False             False   \n",
       "192             False             False             False             False   \n",
       "629             False             False             False             False   \n",
       "559             False             False             False             False   \n",
       "684             False             False             False             False   \n",
       "\n",
       "     SkinThickness_63  SkinThickness_99  \n",
       "603             False             False  \n",
       "118             False             False  \n",
       "247             False             False  \n",
       "157             False             False  \n",
       "468             False             False  \n",
       "..                ...               ...  \n",
       "763             False             False  \n",
       "192             False             False  \n",
       "629             False             False  \n",
       "559             False             False  \n",
       "684             False             False  \n",
       "\n",
       "[614 rows x 97 columns]"
      ]
     },
     "execution_count": 16,
     "metadata": {},
     "output_type": "execute_result"
    }
   ],
   "source": [
    "X_train"
   ]
  },
  {
   "cell_type": "code",
   "execution_count": 17,
   "id": "3c06b989",
   "metadata": {
    "execution": {
     "iopub.execute_input": "2025-08-21T08:23:16.798888Z",
     "iopub.status.busy": "2025-08-21T08:23:16.797793Z",
     "iopub.status.idle": "2025-08-21T08:23:16.803667Z",
     "shell.execute_reply": "2025-08-21T08:23:16.802812Z"
    },
    "papermill": {
     "duration": 0.015128,
     "end_time": "2025-08-21T08:23:16.804849",
     "exception": false,
     "start_time": "2025-08-21T08:23:16.789721",
     "status": "completed"
    },
    "tags": []
   },
   "outputs": [
    {
     "data": {
      "text/plain": [
       "(614, 97)"
      ]
     },
     "execution_count": 17,
     "metadata": {},
     "output_type": "execute_result"
    }
   ],
   "source": [
    "X_train.shape"
   ]
  },
  {
   "cell_type": "code",
   "execution_count": 18,
   "id": "c03e3287",
   "metadata": {
    "execution": {
     "iopub.execute_input": "2025-08-21T08:23:16.817703Z",
     "iopub.status.busy": "2025-08-21T08:23:16.817350Z",
     "iopub.status.idle": "2025-08-21T08:23:16.822686Z",
     "shell.execute_reply": "2025-08-21T08:23:16.821854Z"
    },
    "papermill": {
     "duration": 0.013207,
     "end_time": "2025-08-21T08:23:16.823934",
     "exception": false,
     "start_time": "2025-08-21T08:23:16.810727",
     "status": "completed"
    },
    "tags": []
   },
   "outputs": [
    {
     "data": {
      "text/plain": [
       "(614,)"
      ]
     },
     "execution_count": 18,
     "metadata": {},
     "output_type": "execute_result"
    }
   ],
   "source": [
    "y_train.shape"
   ]
  },
  {
   "cell_type": "code",
   "execution_count": 19,
   "id": "de7ebe8e",
   "metadata": {
    "execution": {
     "iopub.execute_input": "2025-08-21T08:23:16.836716Z",
     "iopub.status.busy": "2025-08-21T08:23:16.836381Z",
     "iopub.status.idle": "2025-08-21T08:23:16.863699Z",
     "shell.execute_reply": "2025-08-21T08:23:16.862812Z"
    },
    "papermill": {
     "duration": 0.035368,
     "end_time": "2025-08-21T08:23:16.865352",
     "exception": false,
     "start_time": "2025-08-21T08:23:16.829984",
     "status": "completed"
    },
    "tags": []
   },
   "outputs": [],
   "source": [
    "from sklearn.preprocessing import StandardScaler\n",
    "scaler = StandardScaler()\n",
    "\n",
    "X_train_trf = scaler.fit_transform(X_train)\n",
    "X_test_trf = scaler.transform(X_test)"
   ]
  },
  {
   "cell_type": "code",
   "execution_count": 20,
   "id": "f381b7ba",
   "metadata": {
    "execution": {
     "iopub.execute_input": "2025-08-21T08:23:16.878925Z",
     "iopub.status.busy": "2025-08-21T08:23:16.878619Z",
     "iopub.status.idle": "2025-08-21T08:23:16.885202Z",
     "shell.execute_reply": "2025-08-21T08:23:16.884188Z"
    },
    "papermill": {
     "duration": 0.014527,
     "end_time": "2025-08-21T08:23:16.886354",
     "exception": false,
     "start_time": "2025-08-21T08:23:16.871827",
     "status": "completed"
    },
    "tags": []
   },
   "outputs": [
    {
     "data": {
      "text/plain": [
       "array([[ 0.67740401, -0.04038962, -0.04038962, ..., -0.04038962,\n",
       "        -0.04038962, -0.04038962],\n",
       "       [-0.07049698, -0.04038962, -0.04038962, ..., -0.04038962,\n",
       "        -0.04038962, -0.04038962],\n",
       "       [-0.11855487, -0.04038962, -0.04038962, ..., -0.04038962,\n",
       "        -0.04038962, -0.04038962],\n",
       "       ...,\n",
       "       [-0.95656442, -0.04038962, -0.04038962, ..., -0.04038962,\n",
       "        -0.04038962, -0.04038962],\n",
       "       [-0.50001442, -0.04038962, -0.04038962, ..., -0.04038962,\n",
       "        -0.04038962, -0.04038962],\n",
       "       [ 0.52121586, -0.04038962, -0.04038962, ..., -0.04038962,\n",
       "        -0.04038962, -0.04038962]])"
      ]
     },
     "execution_count": 20,
     "metadata": {},
     "output_type": "execute_result"
    }
   ],
   "source": [
    "X_train_trf"
   ]
  },
  {
   "cell_type": "code",
   "execution_count": 21,
   "id": "9b8c63e5",
   "metadata": {
    "execution": {
     "iopub.execute_input": "2025-08-21T08:23:16.899408Z",
     "iopub.status.busy": "2025-08-21T08:23:16.899131Z",
     "iopub.status.idle": "2025-08-21T08:23:16.905839Z",
     "shell.execute_reply": "2025-08-21T08:23:16.904787Z"
    },
    "papermill": {
     "duration": 0.014516,
     "end_time": "2025-08-21T08:23:16.907040",
     "exception": false,
     "start_time": "2025-08-21T08:23:16.892524",
     "status": "completed"
    },
    "tags": []
   },
   "outputs": [
    {
     "data": {
      "text/plain": [
       "array([[ 2.78594417, -0.04038962, -0.04038962, ..., -0.04038962,\n",
       "        -0.04038962, -0.04038962],\n",
       "       [-0.1876381 , -0.04038962, -0.04038962, ..., -0.04038962,\n",
       "        -0.04038962, -0.04038962],\n",
       "       [-0.22668514, -0.04038962, -0.04038962, ..., -0.04038962,\n",
       "        -0.04038962, -0.04038962],\n",
       "       ...,\n",
       "       [ 0.53623395, -0.04038962, -0.04038962, ..., -0.04038962,\n",
       "        -0.04038962, -0.04038962],\n",
       "       [-1.07971278, -0.04038962, -0.04038962, ..., -0.04038962,\n",
       "        -0.04038962, -0.04038962],\n",
       "       [ 1.06487079, -0.04038962, -0.04038962, ..., -0.04038962,\n",
       "        -0.04038962, -0.04038962]])"
      ]
     },
     "execution_count": 21,
     "metadata": {},
     "output_type": "execute_result"
    }
   ],
   "source": [
    "X_test_trf"
   ]
  },
  {
   "cell_type": "code",
   "execution_count": 22,
   "id": "ce0623dc",
   "metadata": {
    "execution": {
     "iopub.execute_input": "2025-08-21T08:23:16.919742Z",
     "iopub.status.busy": "2025-08-21T08:23:16.919367Z",
     "iopub.status.idle": "2025-08-21T08:23:16.932105Z",
     "shell.execute_reply": "2025-08-21T08:23:16.931226Z"
    },
    "papermill": {
     "duration": 0.020535,
     "end_time": "2025-08-21T08:23:16.933626",
     "exception": false,
     "start_time": "2025-08-21T08:23:16.913091",
     "status": "completed"
    },
    "tags": []
   },
   "outputs": [],
   "source": [
    "import pandas as pd\n",
    "from sklearn.model_selection import train_test_split\n",
    "from sklearn.preprocessing import StandardScaler\n",
    "\n",
    "df = pd.read_csv(\"/kaggle/input/pima-indians-diabetes-database/diabetes.csv\")\n",
    "\n",
    "X = df.drop(columns=['Outcome'])\n",
    "y = df['Outcome']\n",
    "\n",
    "\n",
    "scaler = StandardScaler()\n",
    "X = scaler.fit_transform(X)\n",
    "\n",
    "X_train, X_test, y_train, y_test = train_test_split(X, y, test_size=0.2, random_state=42)"
   ]
  },
  {
   "cell_type": "code",
   "execution_count": 23,
   "id": "80e88316",
   "metadata": {
    "execution": {
     "iopub.execute_input": "2025-08-21T08:23:16.946641Z",
     "iopub.status.busy": "2025-08-21T08:23:16.946358Z",
     "iopub.status.idle": "2025-08-21T08:23:46.536914Z",
     "shell.execute_reply": "2025-08-21T08:23:46.536038Z"
    },
    "papermill": {
     "duration": 29.599309,
     "end_time": "2025-08-21T08:23:46.539057",
     "exception": false,
     "start_time": "2025-08-21T08:23:16.939748",
     "status": "completed"
    },
    "tags": []
   },
   "outputs": [
    {
     "name": "stderr",
     "output_type": "stream",
     "text": [
      "2025-08-21 08:23:19.375533: E external/local_xla/xla/stream_executor/cuda/cuda_fft.cc:477] Unable to register cuFFT factory: Attempting to register factory for plugin cuFFT when one has already been registered\n",
      "WARNING: All log messages before absl::InitializeLog() is called are written to STDERR\n",
      "E0000 00:00:1755764599.645416      13 cuda_dnn.cc:8310] Unable to register cuDNN factory: Attempting to register factory for plugin cuDNN when one has already been registered\n",
      "E0000 00:00:1755764599.729185      13 cuda_blas.cc:1418] Unable to register cuBLAS factory: Attempting to register factory for plugin cuBLAS when one has already been registered\n"
     ]
    },
    {
     "name": "stdout",
     "output_type": "stream",
     "text": [
      "Epoch 1/100\n"
     ]
    },
    {
     "name": "stderr",
     "output_type": "stream",
     "text": [
      "/usr/local/lib/python3.11/dist-packages/keras/src/layers/core/dense.py:87: UserWarning: Do not pass an `input_shape`/`input_dim` argument to a layer. When using Sequential models, prefer using an `Input(shape)` object as the first layer in the model instead.\n",
      "  super().__init__(activity_regularizer=activity_regularizer, **kwargs)\n",
      "2025-08-21 08:23:34.721978: E external/local_xla/xla/stream_executor/cuda/cuda_driver.cc:152] failed call to cuInit: INTERNAL: CUDA error: Failed call to cuInit: UNKNOWN ERROR (303)\n"
     ]
    },
    {
     "name": "stdout",
     "output_type": "stream",
     "text": [
      "\u001b[1m10/10\u001b[0m \u001b[32m━━━━━━━━━━━━━━━━━━━━\u001b[0m\u001b[37m\u001b[0m \u001b[1m2s\u001b[0m 33ms/step - accuracy: 0.6800 - loss: 0.6198 - val_accuracy: 0.6585 - val_loss: 0.6353\n",
      "Epoch 2/100\n",
      "\u001b[1m10/10\u001b[0m \u001b[32m━━━━━━━━━━━━━━━━━━━━\u001b[0m\u001b[37m\u001b[0m \u001b[1m0s\u001b[0m 9ms/step - accuracy: 0.6562 - loss: 0.6089 - val_accuracy: 0.6585 - val_loss: 0.6234\n",
      "Epoch 3/100\n",
      "\u001b[1m10/10\u001b[0m \u001b[32m━━━━━━━━━━━━━━━━━━━━\u001b[0m\u001b[37m\u001b[0m \u001b[1m0s\u001b[0m 9ms/step - accuracy: 0.6772 - loss: 0.5847 - val_accuracy: 0.6504 - val_loss: 0.6123\n",
      "Epoch 4/100\n",
      "\u001b[1m10/10\u001b[0m \u001b[32m━━━━━━━━━━━━━━━━━━━━\u001b[0m\u001b[37m\u001b[0m \u001b[1m0s\u001b[0m 8ms/step - accuracy: 0.6688 - loss: 0.5675 - val_accuracy: 0.6423 - val_loss: 0.6027\n",
      "Epoch 5/100\n",
      "\u001b[1m10/10\u001b[0m \u001b[32m━━━━━━━━━━━━━━━━━━━━\u001b[0m\u001b[37m\u001b[0m \u001b[1m0s\u001b[0m 8ms/step - accuracy: 0.6776 - loss: 0.5643 - val_accuracy: 0.6423 - val_loss: 0.5940\n",
      "Epoch 6/100\n",
      "\u001b[1m10/10\u001b[0m \u001b[32m━━━━━━━━━━━━━━━━━━━━\u001b[0m\u001b[37m\u001b[0m \u001b[1m0s\u001b[0m 8ms/step - accuracy: 0.6834 - loss: 0.5537 - val_accuracy: 0.6585 - val_loss: 0.5861\n",
      "Epoch 7/100\n",
      "\u001b[1m10/10\u001b[0m \u001b[32m━━━━━━━━━━━━━━━━━━━━\u001b[0m\u001b[37m\u001b[0m \u001b[1m0s\u001b[0m 8ms/step - accuracy: 0.7149 - loss: 0.5088 - val_accuracy: 0.6504 - val_loss: 0.5794\n",
      "Epoch 8/100\n",
      "\u001b[1m10/10\u001b[0m \u001b[32m━━━━━━━━━━━━━━━━━━━━\u001b[0m\u001b[37m\u001b[0m \u001b[1m0s\u001b[0m 8ms/step - accuracy: 0.6848 - loss: 0.5374 - val_accuracy: 0.6504 - val_loss: 0.5737\n",
      "Epoch 9/100\n",
      "\u001b[1m10/10\u001b[0m \u001b[32m━━━━━━━━━━━━━━━━━━━━\u001b[0m\u001b[37m\u001b[0m \u001b[1m0s\u001b[0m 8ms/step - accuracy: 0.7050 - loss: 0.5111 - val_accuracy: 0.6423 - val_loss: 0.5688\n",
      "Epoch 10/100\n",
      "\u001b[1m10/10\u001b[0m \u001b[32m━━━━━━━━━━━━━━━━━━━━\u001b[0m\u001b[37m\u001b[0m \u001b[1m0s\u001b[0m 8ms/step - accuracy: 0.6824 - loss: 0.5078 - val_accuracy: 0.6423 - val_loss: 0.5639\n",
      "Epoch 11/100\n",
      "\u001b[1m10/10\u001b[0m \u001b[32m━━━━━━━━━━━━━━━━━━━━\u001b[0m\u001b[37m\u001b[0m \u001b[1m0s\u001b[0m 7ms/step - accuracy: 0.6690 - loss: 0.5247 - val_accuracy: 0.6585 - val_loss: 0.5588\n",
      "Epoch 12/100\n",
      "\u001b[1m10/10\u001b[0m \u001b[32m━━━━━━━━━━━━━━━━━━━━\u001b[0m\u001b[37m\u001b[0m \u001b[1m0s\u001b[0m 8ms/step - accuracy: 0.6981 - loss: 0.5146 - val_accuracy: 0.6748 - val_loss: 0.5540\n",
      "Epoch 13/100\n",
      "\u001b[1m10/10\u001b[0m \u001b[32m━━━━━━━━━━━━━━━━━━━━\u001b[0m\u001b[37m\u001b[0m \u001b[1m0s\u001b[0m 8ms/step - accuracy: 0.7184 - loss: 0.4922 - val_accuracy: 0.6748 - val_loss: 0.5503\n",
      "Epoch 14/100\n",
      "\u001b[1m10/10\u001b[0m \u001b[32m━━━━━━━━━━━━━━━━━━━━\u001b[0m\u001b[37m\u001b[0m \u001b[1m0s\u001b[0m 9ms/step - accuracy: 0.6857 - loss: 0.5278 - val_accuracy: 0.6667 - val_loss: 0.5460\n",
      "Epoch 15/100\n",
      "\u001b[1m10/10\u001b[0m \u001b[32m━━━━━━━━━━━━━━━━━━━━\u001b[0m\u001b[37m\u001b[0m \u001b[1m0s\u001b[0m 8ms/step - accuracy: 0.7373 - loss: 0.5017 - val_accuracy: 0.7073 - val_loss: 0.5420\n",
      "Epoch 16/100\n",
      "\u001b[1m10/10\u001b[0m \u001b[32m━━━━━━━━━━━━━━━━━━━━\u001b[0m\u001b[37m\u001b[0m \u001b[1m0s\u001b[0m 7ms/step - accuracy: 0.7187 - loss: 0.4900 - val_accuracy: 0.7317 - val_loss: 0.5380\n",
      "Epoch 17/100\n",
      "\u001b[1m10/10\u001b[0m \u001b[32m━━━━━━━━━━━━━━━━━━━━\u001b[0m\u001b[37m\u001b[0m \u001b[1m0s\u001b[0m 8ms/step - accuracy: 0.7741 - loss: 0.4729 - val_accuracy: 0.7480 - val_loss: 0.5350\n",
      "Epoch 18/100\n",
      "\u001b[1m10/10\u001b[0m \u001b[32m━━━━━━━━━━━━━━━━━━━━\u001b[0m\u001b[37m\u001b[0m \u001b[1m0s\u001b[0m 8ms/step - accuracy: 0.7570 - loss: 0.4829 - val_accuracy: 0.7398 - val_loss: 0.5316\n",
      "Epoch 19/100\n",
      "\u001b[1m10/10\u001b[0m \u001b[32m━━━━━━━━━━━━━━━━━━━━\u001b[0m\u001b[37m\u001b[0m \u001b[1m0s\u001b[0m 8ms/step - accuracy: 0.7848 - loss: 0.4647 - val_accuracy: 0.7317 - val_loss: 0.5290\n",
      "Epoch 20/100\n",
      "\u001b[1m10/10\u001b[0m \u001b[32m━━━━━━━━━━━━━━━━━━━━\u001b[0m\u001b[37m\u001b[0m \u001b[1m0s\u001b[0m 9ms/step - accuracy: 0.7838 - loss: 0.4390 - val_accuracy: 0.7317 - val_loss: 0.5256\n",
      "Epoch 21/100\n",
      "\u001b[1m10/10\u001b[0m \u001b[32m━━━━━━━━━━━━━━━━━━━━\u001b[0m\u001b[37m\u001b[0m \u001b[1m0s\u001b[0m 9ms/step - accuracy: 0.7671 - loss: 0.4496 - val_accuracy: 0.7317 - val_loss: 0.5223\n",
      "Epoch 22/100\n",
      "\u001b[1m10/10\u001b[0m \u001b[32m━━━━━━━━━━━━━━━━━━━━\u001b[0m\u001b[37m\u001b[0m \u001b[1m0s\u001b[0m 8ms/step - accuracy: 0.7756 - loss: 0.4924 - val_accuracy: 0.7317 - val_loss: 0.5187\n",
      "Epoch 23/100\n",
      "\u001b[1m10/10\u001b[0m \u001b[32m━━━━━━━━━━━━━━━━━━━━\u001b[0m\u001b[37m\u001b[0m \u001b[1m0s\u001b[0m 8ms/step - accuracy: 0.7833 - loss: 0.4573 - val_accuracy: 0.7317 - val_loss: 0.5159\n",
      "Epoch 24/100\n",
      "\u001b[1m10/10\u001b[0m \u001b[32m━━━━━━━━━━━━━━━━━━━━\u001b[0m\u001b[37m\u001b[0m \u001b[1m0s\u001b[0m 8ms/step - accuracy: 0.7562 - loss: 0.4902 - val_accuracy: 0.7317 - val_loss: 0.5135\n",
      "Epoch 25/100\n",
      "\u001b[1m10/10\u001b[0m \u001b[32m━━━━━━━━━━━━━━━━━━━━\u001b[0m\u001b[37m\u001b[0m \u001b[1m0s\u001b[0m 8ms/step - accuracy: 0.7699 - loss: 0.4526 - val_accuracy: 0.7317 - val_loss: 0.5118\n",
      "Epoch 26/100\n",
      "\u001b[1m10/10\u001b[0m \u001b[32m━━━━━━━━━━━━━━━━━━━━\u001b[0m\u001b[37m\u001b[0m \u001b[1m0s\u001b[0m 8ms/step - accuracy: 0.7594 - loss: 0.4673 - val_accuracy: 0.7317 - val_loss: 0.5089\n",
      "Epoch 27/100\n",
      "\u001b[1m10/10\u001b[0m \u001b[32m━━━━━━━━━━━━━━━━━━━━\u001b[0m\u001b[37m\u001b[0m \u001b[1m0s\u001b[0m 7ms/step - accuracy: 0.7894 - loss: 0.4338 - val_accuracy: 0.7398 - val_loss: 0.5066\n",
      "Epoch 28/100\n",
      "\u001b[1m10/10\u001b[0m \u001b[32m━━━━━━━━━━━━━━━━━━━━\u001b[0m\u001b[37m\u001b[0m \u001b[1m0s\u001b[0m 8ms/step - accuracy: 0.7743 - loss: 0.4650 - val_accuracy: 0.7398 - val_loss: 0.5043\n",
      "Epoch 29/100\n",
      "\u001b[1m10/10\u001b[0m \u001b[32m━━━━━━━━━━━━━━━━━━━━\u001b[0m\u001b[37m\u001b[0m \u001b[1m0s\u001b[0m 8ms/step - accuracy: 0.7988 - loss: 0.4132 - val_accuracy: 0.7317 - val_loss: 0.5015\n",
      "Epoch 30/100\n",
      "\u001b[1m10/10\u001b[0m \u001b[32m━━━━━━━━━━━━━━━━━━━━\u001b[0m\u001b[37m\u001b[0m \u001b[1m0s\u001b[0m 8ms/step - accuracy: 0.7743 - loss: 0.4578 - val_accuracy: 0.7317 - val_loss: 0.5000\n",
      "Epoch 31/100\n",
      "\u001b[1m10/10\u001b[0m \u001b[32m━━━━━━━━━━━━━━━━━━━━\u001b[0m\u001b[37m\u001b[0m \u001b[1m0s\u001b[0m 8ms/step - accuracy: 0.7933 - loss: 0.4560 - val_accuracy: 0.7398 - val_loss: 0.4986\n",
      "Epoch 32/100\n",
      "\u001b[1m10/10\u001b[0m \u001b[32m━━━━━━━━━━━━━━━━━━━━\u001b[0m\u001b[37m\u001b[0m \u001b[1m0s\u001b[0m 7ms/step - accuracy: 0.7838 - loss: 0.4585 - val_accuracy: 0.7398 - val_loss: 0.4980\n",
      "Epoch 33/100\n",
      "\u001b[1m10/10\u001b[0m \u001b[32m━━━━━━━━━━━━━━━━━━━━\u001b[0m\u001b[37m\u001b[0m \u001b[1m0s\u001b[0m 7ms/step - accuracy: 0.7849 - loss: 0.4587 - val_accuracy: 0.7398 - val_loss: 0.4961\n",
      "Epoch 34/100\n",
      "\u001b[1m10/10\u001b[0m \u001b[32m━━━━━━━━━━━━━━━━━━━━\u001b[0m\u001b[37m\u001b[0m \u001b[1m0s\u001b[0m 8ms/step - accuracy: 0.7656 - loss: 0.4670 - val_accuracy: 0.7398 - val_loss: 0.4951\n",
      "Epoch 35/100\n",
      "\u001b[1m10/10\u001b[0m \u001b[32m━━━━━━━━━━━━━━━━━━━━\u001b[0m\u001b[37m\u001b[0m \u001b[1m0s\u001b[0m 8ms/step - accuracy: 0.7749 - loss: 0.4625 - val_accuracy: 0.7398 - val_loss: 0.4943\n",
      "Epoch 36/100\n",
      "\u001b[1m10/10\u001b[0m \u001b[32m━━━━━━━━━━━━━━━━━━━━\u001b[0m\u001b[37m\u001b[0m \u001b[1m0s\u001b[0m 9ms/step - accuracy: 0.7903 - loss: 0.4371 - val_accuracy: 0.7398 - val_loss: 0.4938\n",
      "Epoch 37/100\n",
      "\u001b[1m10/10\u001b[0m \u001b[32m━━━━━━━━━━━━━━━━━━━━\u001b[0m\u001b[37m\u001b[0m \u001b[1m0s\u001b[0m 8ms/step - accuracy: 0.7974 - loss: 0.4239 - val_accuracy: 0.7398 - val_loss: 0.4932\n",
      "Epoch 38/100\n",
      "\u001b[1m10/10\u001b[0m \u001b[32m━━━━━━━━━━━━━━━━━━━━\u001b[0m\u001b[37m\u001b[0m \u001b[1m0s\u001b[0m 8ms/step - accuracy: 0.8013 - loss: 0.4294 - val_accuracy: 0.7317 - val_loss: 0.4920\n",
      "Epoch 39/100\n",
      "\u001b[1m10/10\u001b[0m \u001b[32m━━━━━━━━━━━━━━━━━━━━\u001b[0m\u001b[37m\u001b[0m \u001b[1m0s\u001b[0m 8ms/step - accuracy: 0.8067 - loss: 0.4288 - val_accuracy: 0.7317 - val_loss: 0.4902\n",
      "Epoch 40/100\n",
      "\u001b[1m10/10\u001b[0m \u001b[32m━━━━━━━━━━━━━━━━━━━━\u001b[0m\u001b[37m\u001b[0m \u001b[1m0s\u001b[0m 8ms/step - accuracy: 0.7937 - loss: 0.4335 - val_accuracy: 0.7317 - val_loss: 0.4885\n",
      "Epoch 41/100\n",
      "\u001b[1m10/10\u001b[0m \u001b[32m━━━━━━━━━━━━━━━━━━━━\u001b[0m\u001b[37m\u001b[0m \u001b[1m0s\u001b[0m 8ms/step - accuracy: 0.8186 - loss: 0.3986 - val_accuracy: 0.7236 - val_loss: 0.4877\n",
      "Epoch 42/100\n",
      "\u001b[1m10/10\u001b[0m \u001b[32m━━━━━━━━━━━━━━━━━━━━\u001b[0m\u001b[37m\u001b[0m \u001b[1m0s\u001b[0m 8ms/step - accuracy: 0.7957 - loss: 0.4217 - val_accuracy: 0.7317 - val_loss: 0.4876\n",
      "Epoch 43/100\n",
      "\u001b[1m10/10\u001b[0m \u001b[32m━━━━━━━━━━━━━━━━━━━━\u001b[0m\u001b[37m\u001b[0m \u001b[1m0s\u001b[0m 8ms/step - accuracy: 0.7893 - loss: 0.4152 - val_accuracy: 0.7317 - val_loss: 0.4868\n",
      "Epoch 44/100\n",
      "\u001b[1m10/10\u001b[0m \u001b[32m━━━━━━━━━━━━━━━━━━━━\u001b[0m\u001b[37m\u001b[0m \u001b[1m0s\u001b[0m 8ms/step - accuracy: 0.8030 - loss: 0.4191 - val_accuracy: 0.7398 - val_loss: 0.4856\n",
      "Epoch 45/100\n",
      "\u001b[1m10/10\u001b[0m \u001b[32m━━━━━━━━━━━━━━━━━━━━\u001b[0m\u001b[37m\u001b[0m \u001b[1m0s\u001b[0m 8ms/step - accuracy: 0.7962 - loss: 0.4324 - val_accuracy: 0.7398 - val_loss: 0.4855\n",
      "Epoch 46/100\n",
      "\u001b[1m10/10\u001b[0m \u001b[32m━━━━━━━━━━━━━━━━━━━━\u001b[0m\u001b[37m\u001b[0m \u001b[1m0s\u001b[0m 8ms/step - accuracy: 0.8225 - loss: 0.4050 - val_accuracy: 0.7398 - val_loss: 0.4850\n",
      "Epoch 47/100\n",
      "\u001b[1m10/10\u001b[0m \u001b[32m━━━━━━━━━━━━━━━━━━━━\u001b[0m\u001b[37m\u001b[0m \u001b[1m0s\u001b[0m 8ms/step - accuracy: 0.7918 - loss: 0.4172 - val_accuracy: 0.7398 - val_loss: 0.4857\n",
      "Epoch 48/100\n",
      "\u001b[1m10/10\u001b[0m \u001b[32m━━━━━━━━━━━━━━━━━━━━\u001b[0m\u001b[37m\u001b[0m \u001b[1m0s\u001b[0m 8ms/step - accuracy: 0.8140 - loss: 0.4102 - val_accuracy: 0.7398 - val_loss: 0.4848\n",
      "Epoch 49/100\n",
      "\u001b[1m10/10\u001b[0m \u001b[32m━━━━━━━━━━━━━━━━━━━━\u001b[0m\u001b[37m\u001b[0m \u001b[1m0s\u001b[0m 8ms/step - accuracy: 0.8217 - loss: 0.4079 - val_accuracy: 0.7398 - val_loss: 0.4843\n",
      "Epoch 50/100\n",
      "\u001b[1m10/10\u001b[0m \u001b[32m━━━━━━━━━━━━━━━━━━━━\u001b[0m\u001b[37m\u001b[0m \u001b[1m0s\u001b[0m 8ms/step - accuracy: 0.7931 - loss: 0.4189 - val_accuracy: 0.7398 - val_loss: 0.4841\n",
      "Epoch 51/100\n",
      "\u001b[1m10/10\u001b[0m \u001b[32m━━━━━━━━━━━━━━━━━━━━\u001b[0m\u001b[37m\u001b[0m \u001b[1m0s\u001b[0m 8ms/step - accuracy: 0.7792 - loss: 0.4439 - val_accuracy: 0.7398 - val_loss: 0.4831\n",
      "Epoch 52/100\n",
      "\u001b[1m10/10\u001b[0m \u001b[32m━━━━━━━━━━━━━━━━━━━━\u001b[0m\u001b[37m\u001b[0m \u001b[1m0s\u001b[0m 8ms/step - accuracy: 0.8013 - loss: 0.4240 - val_accuracy: 0.7398 - val_loss: 0.4830\n",
      "Epoch 53/100\n",
      "\u001b[1m10/10\u001b[0m \u001b[32m━━━━━━━━━━━━━━━━━━━━\u001b[0m\u001b[37m\u001b[0m \u001b[1m0s\u001b[0m 8ms/step - accuracy: 0.7988 - loss: 0.4242 - val_accuracy: 0.7398 - val_loss: 0.4838\n",
      "Epoch 54/100\n",
      "\u001b[1m10/10\u001b[0m \u001b[32m━━━━━━━━━━━━━━━━━━━━\u001b[0m\u001b[37m\u001b[0m \u001b[1m0s\u001b[0m 8ms/step - accuracy: 0.7991 - loss: 0.4240 - val_accuracy: 0.7480 - val_loss: 0.4833\n",
      "Epoch 55/100\n",
      "\u001b[1m10/10\u001b[0m \u001b[32m━━━━━━━━━━━━━━━━━━━━\u001b[0m\u001b[37m\u001b[0m \u001b[1m0s\u001b[0m 7ms/step - accuracy: 0.7988 - loss: 0.4303 - val_accuracy: 0.7480 - val_loss: 0.4838\n",
      "Epoch 56/100\n",
      "\u001b[1m10/10\u001b[0m \u001b[32m━━━━━━━━━━━━━━━━━━━━\u001b[0m\u001b[37m\u001b[0m \u001b[1m0s\u001b[0m 8ms/step - accuracy: 0.8165 - loss: 0.3860 - val_accuracy: 0.7561 - val_loss: 0.4834\n",
      "Epoch 57/100\n",
      "\u001b[1m10/10\u001b[0m \u001b[32m━━━━━━━━━━━━━━━━━━━━\u001b[0m\u001b[37m\u001b[0m \u001b[1m0s\u001b[0m 8ms/step - accuracy: 0.7793 - loss: 0.4521 - val_accuracy: 0.7561 - val_loss: 0.4823\n",
      "Epoch 58/100\n",
      "\u001b[1m10/10\u001b[0m \u001b[32m━━━━━━━━━━━━━━━━━━━━\u001b[0m\u001b[37m\u001b[0m \u001b[1m0s\u001b[0m 8ms/step - accuracy: 0.8113 - loss: 0.3915 - val_accuracy: 0.7561 - val_loss: 0.4838\n",
      "Epoch 59/100\n",
      "\u001b[1m10/10\u001b[0m \u001b[32m━━━━━━━━━━━━━━━━━━━━\u001b[0m\u001b[37m\u001b[0m \u001b[1m0s\u001b[0m 8ms/step - accuracy: 0.8096 - loss: 0.4331 - val_accuracy: 0.7561 - val_loss: 0.4836\n",
      "Epoch 60/100\n",
      "\u001b[1m10/10\u001b[0m \u001b[32m━━━━━━━━━━━━━━━━━━━━\u001b[0m\u001b[37m\u001b[0m \u001b[1m0s\u001b[0m 8ms/step - accuracy: 0.8055 - loss: 0.4225 - val_accuracy: 0.7724 - val_loss: 0.4832\n",
      "Epoch 61/100\n",
      "\u001b[1m10/10\u001b[0m \u001b[32m━━━━━━━━━━━━━━━━━━━━\u001b[0m\u001b[37m\u001b[0m \u001b[1m0s\u001b[0m 8ms/step - accuracy: 0.8205 - loss: 0.3982 - val_accuracy: 0.7724 - val_loss: 0.4825\n",
      "Epoch 62/100\n",
      "\u001b[1m10/10\u001b[0m \u001b[32m━━━━━━━━━━━━━━━━━━━━\u001b[0m\u001b[37m\u001b[0m \u001b[1m0s\u001b[0m 8ms/step - accuracy: 0.8101 - loss: 0.4121 - val_accuracy: 0.7724 - val_loss: 0.4834\n",
      "Epoch 63/100\n",
      "\u001b[1m10/10\u001b[0m \u001b[32m━━━━━━━━━━━━━━━━━━━━\u001b[0m\u001b[37m\u001b[0m \u001b[1m0s\u001b[0m 7ms/step - accuracy: 0.7791 - loss: 0.4365 - val_accuracy: 0.7724 - val_loss: 0.4854\n",
      "Epoch 64/100\n",
      "\u001b[1m10/10\u001b[0m \u001b[32m━━━━━━━━━━━━━━━━━━━━\u001b[0m\u001b[37m\u001b[0m \u001b[1m0s\u001b[0m 8ms/step - accuracy: 0.7980 - loss: 0.4107 - val_accuracy: 0.7724 - val_loss: 0.4853\n",
      "Epoch 65/100\n",
      "\u001b[1m10/10\u001b[0m \u001b[32m━━━━━━━━━━━━━━━━━━━━\u001b[0m\u001b[37m\u001b[0m \u001b[1m0s\u001b[0m 9ms/step - accuracy: 0.8135 - loss: 0.4005 - val_accuracy: 0.7642 - val_loss: 0.4840\n",
      "Epoch 66/100\n",
      "\u001b[1m10/10\u001b[0m \u001b[32m━━━━━━━━━━━━━━━━━━━━\u001b[0m\u001b[37m\u001b[0m \u001b[1m0s\u001b[0m 7ms/step - accuracy: 0.7975 - loss: 0.4089 - val_accuracy: 0.7642 - val_loss: 0.4849\n",
      "Epoch 67/100\n",
      "\u001b[1m10/10\u001b[0m \u001b[32m━━━━━━━━━━━━━━━━━━━━\u001b[0m\u001b[37m\u001b[0m \u001b[1m0s\u001b[0m 8ms/step - accuracy: 0.8172 - loss: 0.4020 - val_accuracy: 0.7642 - val_loss: 0.4840\n",
      "Epoch 68/100\n",
      "\u001b[1m10/10\u001b[0m \u001b[32m━━━━━━━━━━━━━━━━━━━━\u001b[0m\u001b[37m\u001b[0m \u001b[1m0s\u001b[0m 8ms/step - accuracy: 0.8252 - loss: 0.3863 - val_accuracy: 0.7642 - val_loss: 0.4835\n",
      "Epoch 69/100\n",
      "\u001b[1m10/10\u001b[0m \u001b[32m━━━━━━━━━━━━━━━━━━━━\u001b[0m\u001b[37m\u001b[0m \u001b[1m0s\u001b[0m 8ms/step - accuracy: 0.8200 - loss: 0.4021 - val_accuracy: 0.7642 - val_loss: 0.4844\n",
      "Epoch 70/100\n",
      "\u001b[1m10/10\u001b[0m \u001b[32m━━━━━━━━━━━━━━━━━━━━\u001b[0m\u001b[37m\u001b[0m \u001b[1m0s\u001b[0m 8ms/step - accuracy: 0.8044 - loss: 0.4090 - val_accuracy: 0.7724 - val_loss: 0.4853\n",
      "Epoch 71/100\n",
      "\u001b[1m10/10\u001b[0m \u001b[32m━━━━━━━━━━━━━━━━━━━━\u001b[0m\u001b[37m\u001b[0m \u001b[1m0s\u001b[0m 8ms/step - accuracy: 0.8038 - loss: 0.3934 - val_accuracy: 0.7724 - val_loss: 0.4855\n",
      "Epoch 72/100\n",
      "\u001b[1m10/10\u001b[0m \u001b[32m━━━━━━━━━━━━━━━━━━━━\u001b[0m\u001b[37m\u001b[0m \u001b[1m0s\u001b[0m 8ms/step - accuracy: 0.8132 - loss: 0.3904 - val_accuracy: 0.7642 - val_loss: 0.4842\n",
      "Epoch 73/100\n",
      "\u001b[1m10/10\u001b[0m \u001b[32m━━━━━━━━━━━━━━━━━━━━\u001b[0m\u001b[37m\u001b[0m \u001b[1m0s\u001b[0m 8ms/step - accuracy: 0.8132 - loss: 0.4036 - val_accuracy: 0.7642 - val_loss: 0.4839\n",
      "Epoch 74/100\n",
      "\u001b[1m10/10\u001b[0m \u001b[32m━━━━━━━━━━━━━━━━━━━━\u001b[0m\u001b[37m\u001b[0m \u001b[1m0s\u001b[0m 8ms/step - accuracy: 0.8012 - loss: 0.4170 - val_accuracy: 0.7642 - val_loss: 0.4843\n",
      "Epoch 75/100\n",
      "\u001b[1m10/10\u001b[0m \u001b[32m━━━━━━━━━━━━━━━━━━━━\u001b[0m\u001b[37m\u001b[0m \u001b[1m0s\u001b[0m 8ms/step - accuracy: 0.7793 - loss: 0.4315 - val_accuracy: 0.7642 - val_loss: 0.4840\n",
      "Epoch 76/100\n",
      "\u001b[1m10/10\u001b[0m \u001b[32m━━━━━━━━━━━━━━━━━━━━\u001b[0m\u001b[37m\u001b[0m \u001b[1m0s\u001b[0m 8ms/step - accuracy: 0.8201 - loss: 0.3681 - val_accuracy: 0.7642 - val_loss: 0.4848\n",
      "Epoch 77/100\n",
      "\u001b[1m10/10\u001b[0m \u001b[32m━━━━━━━━━━━━━━━━━━━━\u001b[0m\u001b[37m\u001b[0m \u001b[1m0s\u001b[0m 8ms/step - accuracy: 0.8029 - loss: 0.4052 - val_accuracy: 0.7642 - val_loss: 0.4849\n",
      "Epoch 78/100\n",
      "\u001b[1m10/10\u001b[0m \u001b[32m━━━━━━━━━━━━━━━━━━━━\u001b[0m\u001b[37m\u001b[0m \u001b[1m0s\u001b[0m 8ms/step - accuracy: 0.8034 - loss: 0.4138 - val_accuracy: 0.7724 - val_loss: 0.4846\n",
      "Epoch 79/100\n",
      "\u001b[1m10/10\u001b[0m \u001b[32m━━━━━━━━━━━━━━━━━━━━\u001b[0m\u001b[37m\u001b[0m \u001b[1m0s\u001b[0m 8ms/step - accuracy: 0.8162 - loss: 0.3914 - val_accuracy: 0.7642 - val_loss: 0.4840\n",
      "Epoch 80/100\n",
      "\u001b[1m10/10\u001b[0m \u001b[32m━━━━━━━━━━━━━━━━━━━━\u001b[0m\u001b[37m\u001b[0m \u001b[1m0s\u001b[0m 8ms/step - accuracy: 0.8215 - loss: 0.3904 - val_accuracy: 0.7642 - val_loss: 0.4840\n",
      "Epoch 81/100\n",
      "\u001b[1m10/10\u001b[0m \u001b[32m━━━━━━━━━━━━━━━━━━━━\u001b[0m\u001b[37m\u001b[0m \u001b[1m0s\u001b[0m 8ms/step - accuracy: 0.8034 - loss: 0.3958 - val_accuracy: 0.7642 - val_loss: 0.4838\n",
      "Epoch 82/100\n",
      "\u001b[1m10/10\u001b[0m \u001b[32m━━━━━━━━━━━━━━━━━━━━\u001b[0m\u001b[37m\u001b[0m \u001b[1m0s\u001b[0m 7ms/step - accuracy: 0.8110 - loss: 0.3973 - val_accuracy: 0.7642 - val_loss: 0.4837\n",
      "Epoch 83/100\n",
      "\u001b[1m10/10\u001b[0m \u001b[32m━━━━━━━━━━━━━━━━━━━━\u001b[0m\u001b[37m\u001b[0m \u001b[1m0s\u001b[0m 8ms/step - accuracy: 0.8059 - loss: 0.3927 - val_accuracy: 0.7642 - val_loss: 0.4842\n",
      "Epoch 84/100\n",
      "\u001b[1m10/10\u001b[0m \u001b[32m━━━━━━━━━━━━━━━━━━━━\u001b[0m\u001b[37m\u001b[0m \u001b[1m0s\u001b[0m 8ms/step - accuracy: 0.7906 - loss: 0.4231 - val_accuracy: 0.7642 - val_loss: 0.4852\n",
      "Epoch 85/100\n",
      "\u001b[1m10/10\u001b[0m \u001b[32m━━━━━━━━━━━━━━━━━━━━\u001b[0m\u001b[37m\u001b[0m \u001b[1m0s\u001b[0m 9ms/step - accuracy: 0.8067 - loss: 0.3999 - val_accuracy: 0.7642 - val_loss: 0.4851\n",
      "Epoch 86/100\n",
      "\u001b[1m10/10\u001b[0m \u001b[32m━━━━━━━━━━━━━━━━━━━━\u001b[0m\u001b[37m\u001b[0m \u001b[1m0s\u001b[0m 8ms/step - accuracy: 0.7918 - loss: 0.4341 - val_accuracy: 0.7642 - val_loss: 0.4843\n",
      "Epoch 87/100\n",
      "\u001b[1m10/10\u001b[0m \u001b[32m━━━━━━━━━━━━━━━━━━━━\u001b[0m\u001b[37m\u001b[0m \u001b[1m0s\u001b[0m 8ms/step - accuracy: 0.8217 - loss: 0.3747 - val_accuracy: 0.7642 - val_loss: 0.4850\n",
      "Epoch 88/100\n",
      "\u001b[1m10/10\u001b[0m \u001b[32m━━━━━━━━━━━━━━━━━━━━\u001b[0m\u001b[37m\u001b[0m \u001b[1m0s\u001b[0m 8ms/step - accuracy: 0.8218 - loss: 0.3915 - val_accuracy: 0.7642 - val_loss: 0.4849\n",
      "Epoch 89/100\n",
      "\u001b[1m10/10\u001b[0m \u001b[32m━━━━━━━━━━━━━━━━━━━━\u001b[0m\u001b[37m\u001b[0m \u001b[1m0s\u001b[0m 8ms/step - accuracy: 0.8177 - loss: 0.3579 - val_accuracy: 0.7642 - val_loss: 0.4845\n",
      "Epoch 90/100\n",
      "\u001b[1m10/10\u001b[0m \u001b[32m━━━━━━━━━━━━━━━━━━━━\u001b[0m\u001b[37m\u001b[0m \u001b[1m0s\u001b[0m 8ms/step - accuracy: 0.8122 - loss: 0.3937 - val_accuracy: 0.7642 - val_loss: 0.4850\n",
      "Epoch 91/100\n",
      "\u001b[1m10/10\u001b[0m \u001b[32m━━━━━━━━━━━━━━━━━━━━\u001b[0m\u001b[37m\u001b[0m \u001b[1m0s\u001b[0m 8ms/step - accuracy: 0.7879 - loss: 0.4382 - val_accuracy: 0.7642 - val_loss: 0.4849\n",
      "Epoch 92/100\n",
      "\u001b[1m10/10\u001b[0m \u001b[32m━━━━━━━━━━━━━━━━━━━━\u001b[0m\u001b[37m\u001b[0m \u001b[1m0s\u001b[0m 8ms/step - accuracy: 0.8307 - loss: 0.3801 - val_accuracy: 0.7724 - val_loss: 0.4841\n",
      "Epoch 93/100\n",
      "\u001b[1m10/10\u001b[0m \u001b[32m━━━━━━━━━━━━━━━━━━━━\u001b[0m\u001b[37m\u001b[0m \u001b[1m0s\u001b[0m 8ms/step - accuracy: 0.8219 - loss: 0.3759 - val_accuracy: 0.7561 - val_loss: 0.4855\n",
      "Epoch 94/100\n",
      "\u001b[1m10/10\u001b[0m \u001b[32m━━━━━━━━━━━━━━━━━━━━\u001b[0m\u001b[37m\u001b[0m \u001b[1m0s\u001b[0m 8ms/step - accuracy: 0.8178 - loss: 0.3835 - val_accuracy: 0.7724 - val_loss: 0.4850\n",
      "Epoch 95/100\n",
      "\u001b[1m10/10\u001b[0m \u001b[32m━━━━━━━━━━━━━━━━━━━━\u001b[0m\u001b[37m\u001b[0m \u001b[1m0s\u001b[0m 9ms/step - accuracy: 0.8562 - loss: 0.3471 - val_accuracy: 0.7724 - val_loss: 0.4843\n",
      "Epoch 96/100\n",
      "\u001b[1m10/10\u001b[0m \u001b[32m━━━━━━━━━━━━━━━━━━━━\u001b[0m\u001b[37m\u001b[0m \u001b[1m0s\u001b[0m 8ms/step - accuracy: 0.8016 - loss: 0.4027 - val_accuracy: 0.7724 - val_loss: 0.4843\n",
      "Epoch 97/100\n",
      "\u001b[1m10/10\u001b[0m \u001b[32m━━━━━━━━━━━━━━━━━━━━\u001b[0m\u001b[37m\u001b[0m \u001b[1m0s\u001b[0m 8ms/step - accuracy: 0.8216 - loss: 0.3925 - val_accuracy: 0.7724 - val_loss: 0.4837\n",
      "Epoch 98/100\n",
      "\u001b[1m10/10\u001b[0m \u001b[32m━━━━━━━━━━━━━━━━━━━━\u001b[0m\u001b[37m\u001b[0m \u001b[1m0s\u001b[0m 8ms/step - accuracy: 0.8321 - loss: 0.3790 - val_accuracy: 0.7642 - val_loss: 0.4846\n",
      "Epoch 99/100\n",
      "\u001b[1m10/10\u001b[0m \u001b[32m━━━━━━━━━━━━━━━━━━━━\u001b[0m\u001b[37m\u001b[0m \u001b[1m0s\u001b[0m 8ms/step - accuracy: 0.8174 - loss: 0.3861 - val_accuracy: 0.7642 - val_loss: 0.4838\n",
      "Epoch 100/100\n",
      "\u001b[1m10/10\u001b[0m \u001b[32m━━━━━━━━━━━━━━━━━━━━\u001b[0m\u001b[37m\u001b[0m \u001b[1m0s\u001b[0m 8ms/step - accuracy: 0.8234 - loss: 0.3716 - val_accuracy: 0.7724 - val_loss: 0.4836\n"
     ]
    }
   ],
   "source": [
    "from keras.models import Sequential\n",
    "from keras.layers import Dense\n",
    "\n",
    "model = Sequential([\n",
    "    Dense(16, input_dim=X_train.shape[1], activation='relu'),  # input_dim = number of features\n",
    "    Dense(8, activation='relu'),\n",
    "    Dense(1, activation='sigmoid')\n",
    "])\n",
    "\n",
    "model.compile(optimizer='adam', loss='binary_crossentropy', metrics=['accuracy'])\n",
    "\n",
    "history = model.fit(X_train, y_train, batch_size=50, epochs=100, verbose=1, validation_split=0.2)\n"
   ]
  },
  {
   "cell_type": "code",
   "execution_count": 24,
   "id": "007c6228",
   "metadata": {
    "execution": {
     "iopub.execute_input": "2025-08-21T08:23:46.575233Z",
     "iopub.status.busy": "2025-08-21T08:23:46.574637Z",
     "iopub.status.idle": "2025-08-21T08:23:46.593039Z",
     "shell.execute_reply": "2025-08-21T08:23:46.591987Z"
    },
    "papermill": {
     "duration": 0.038021,
     "end_time": "2025-08-21T08:23:46.594466",
     "exception": false,
     "start_time": "2025-08-21T08:23:46.556445",
     "status": "completed"
    },
    "tags": []
   },
   "outputs": [
    {
     "data": {
      "text/html": [
       "<pre style=\"white-space:pre;overflow-x:auto;line-height:normal;font-family:Menlo,'DejaVu Sans Mono',consolas,'Courier New',monospace\"><span style=\"font-weight: bold\">Model: \"sequential\"</span>\n",
       "</pre>\n"
      ],
      "text/plain": [
       "\u001b[1mModel: \"sequential\"\u001b[0m\n"
      ]
     },
     "metadata": {},
     "output_type": "display_data"
    },
    {
     "data": {
      "text/html": [
       "<pre style=\"white-space:pre;overflow-x:auto;line-height:normal;font-family:Menlo,'DejaVu Sans Mono',consolas,'Courier New',monospace\">┏━━━━━━━━━━━━━━━━━━━━━━━━━━━━━━━━━┳━━━━━━━━━━━━━━━━━━━━━━━━┳━━━━━━━━━━━━━━━┓\n",
       "┃<span style=\"font-weight: bold\"> Layer (type)                    </span>┃<span style=\"font-weight: bold\"> Output Shape           </span>┃<span style=\"font-weight: bold\">       Param # </span>┃\n",
       "┡━━━━━━━━━━━━━━━━━━━━━━━━━━━━━━━━━╇━━━━━━━━━━━━━━━━━━━━━━━━╇━━━━━━━━━━━━━━━┩\n",
       "│ dense (<span style=\"color: #0087ff; text-decoration-color: #0087ff\">Dense</span>)                   │ (<span style=\"color: #00d7ff; text-decoration-color: #00d7ff\">None</span>, <span style=\"color: #00af00; text-decoration-color: #00af00\">16</span>)             │           <span style=\"color: #00af00; text-decoration-color: #00af00\">144</span> │\n",
       "├─────────────────────────────────┼────────────────────────┼───────────────┤\n",
       "│ dense_1 (<span style=\"color: #0087ff; text-decoration-color: #0087ff\">Dense</span>)                 │ (<span style=\"color: #00d7ff; text-decoration-color: #00d7ff\">None</span>, <span style=\"color: #00af00; text-decoration-color: #00af00\">8</span>)              │           <span style=\"color: #00af00; text-decoration-color: #00af00\">136</span> │\n",
       "├─────────────────────────────────┼────────────────────────┼───────────────┤\n",
       "│ dense_2 (<span style=\"color: #0087ff; text-decoration-color: #0087ff\">Dense</span>)                 │ (<span style=\"color: #00d7ff; text-decoration-color: #00d7ff\">None</span>, <span style=\"color: #00af00; text-decoration-color: #00af00\">1</span>)              │             <span style=\"color: #00af00; text-decoration-color: #00af00\">9</span> │\n",
       "└─────────────────────────────────┴────────────────────────┴───────────────┘\n",
       "</pre>\n"
      ],
      "text/plain": [
       "┏━━━━━━━━━━━━━━━━━━━━━━━━━━━━━━━━━┳━━━━━━━━━━━━━━━━━━━━━━━━┳━━━━━━━━━━━━━━━┓\n",
       "┃\u001b[1m \u001b[0m\u001b[1mLayer (type)                   \u001b[0m\u001b[1m \u001b[0m┃\u001b[1m \u001b[0m\u001b[1mOutput Shape          \u001b[0m\u001b[1m \u001b[0m┃\u001b[1m \u001b[0m\u001b[1m      Param #\u001b[0m\u001b[1m \u001b[0m┃\n",
       "┡━━━━━━━━━━━━━━━━━━━━━━━━━━━━━━━━━╇━━━━━━━━━━━━━━━━━━━━━━━━╇━━━━━━━━━━━━━━━┩\n",
       "│ dense (\u001b[38;5;33mDense\u001b[0m)                   │ (\u001b[38;5;45mNone\u001b[0m, \u001b[38;5;34m16\u001b[0m)             │           \u001b[38;5;34m144\u001b[0m │\n",
       "├─────────────────────────────────┼────────────────────────┼───────────────┤\n",
       "│ dense_1 (\u001b[38;5;33mDense\u001b[0m)                 │ (\u001b[38;5;45mNone\u001b[0m, \u001b[38;5;34m8\u001b[0m)              │           \u001b[38;5;34m136\u001b[0m │\n",
       "├─────────────────────────────────┼────────────────────────┼───────────────┤\n",
       "│ dense_2 (\u001b[38;5;33mDense\u001b[0m)                 │ (\u001b[38;5;45mNone\u001b[0m, \u001b[38;5;34m1\u001b[0m)              │             \u001b[38;5;34m9\u001b[0m │\n",
       "└─────────────────────────────────┴────────────────────────┴───────────────┘\n"
      ]
     },
     "metadata": {},
     "output_type": "display_data"
    },
    {
     "data": {
      "text/html": [
       "<pre style=\"white-space:pre;overflow-x:auto;line-height:normal;font-family:Menlo,'DejaVu Sans Mono',consolas,'Courier New',monospace\"><span style=\"font-weight: bold\"> Total params: </span><span style=\"color: #00af00; text-decoration-color: #00af00\">869</span> (3.40 KB)\n",
       "</pre>\n"
      ],
      "text/plain": [
       "\u001b[1m Total params: \u001b[0m\u001b[38;5;34m869\u001b[0m (3.40 KB)\n"
      ]
     },
     "metadata": {},
     "output_type": "display_data"
    },
    {
     "data": {
      "text/html": [
       "<pre style=\"white-space:pre;overflow-x:auto;line-height:normal;font-family:Menlo,'DejaVu Sans Mono',consolas,'Courier New',monospace\"><span style=\"font-weight: bold\"> Trainable params: </span><span style=\"color: #00af00; text-decoration-color: #00af00\">289</span> (1.13 KB)\n",
       "</pre>\n"
      ],
      "text/plain": [
       "\u001b[1m Trainable params: \u001b[0m\u001b[38;5;34m289\u001b[0m (1.13 KB)\n"
      ]
     },
     "metadata": {},
     "output_type": "display_data"
    },
    {
     "data": {
      "text/html": [
       "<pre style=\"white-space:pre;overflow-x:auto;line-height:normal;font-family:Menlo,'DejaVu Sans Mono',consolas,'Courier New',monospace\"><span style=\"font-weight: bold\"> Non-trainable params: </span><span style=\"color: #00af00; text-decoration-color: #00af00\">0</span> (0.00 B)\n",
       "</pre>\n"
      ],
      "text/plain": [
       "\u001b[1m Non-trainable params: \u001b[0m\u001b[38;5;34m0\u001b[0m (0.00 B)\n"
      ]
     },
     "metadata": {},
     "output_type": "display_data"
    },
    {
     "data": {
      "text/html": [
       "<pre style=\"white-space:pre;overflow-x:auto;line-height:normal;font-family:Menlo,'DejaVu Sans Mono',consolas,'Courier New',monospace\"><span style=\"font-weight: bold\"> Optimizer params: </span><span style=\"color: #00af00; text-decoration-color: #00af00\">580</span> (2.27 KB)\n",
       "</pre>\n"
      ],
      "text/plain": [
       "\u001b[1m Optimizer params: \u001b[0m\u001b[38;5;34m580\u001b[0m (2.27 KB)\n"
      ]
     },
     "metadata": {},
     "output_type": "display_data"
    }
   ],
   "source": [
    "model.summary()"
   ]
  },
  {
   "cell_type": "code",
   "execution_count": 25,
   "id": "ac71dca6",
   "metadata": {
    "execution": {
     "iopub.execute_input": "2025-08-21T08:23:46.699525Z",
     "iopub.status.busy": "2025-08-21T08:23:46.699258Z",
     "iopub.status.idle": "2025-08-21T08:23:46.712992Z",
     "shell.execute_reply": "2025-08-21T08:23:46.712395Z"
    },
    "papermill": {
     "duration": 0.102135,
     "end_time": "2025-08-21T08:23:46.714251",
     "exception": false,
     "start_time": "2025-08-21T08:23:46.612116",
     "status": "completed"
    },
    "tags": []
   },
   "outputs": [],
   "source": [
    "model.compile(optimizer='Adam',loss='binary_crossentropy',metrics=['accuracy'])"
   ]
  },
  {
   "cell_type": "code",
   "execution_count": 26,
   "id": "45298b55",
   "metadata": {
    "execution": {
     "iopub.execute_input": "2025-08-21T08:23:46.752166Z",
     "iopub.status.busy": "2025-08-21T08:23:46.751898Z",
     "iopub.status.idle": "2025-08-21T08:23:46.761733Z",
     "shell.execute_reply": "2025-08-21T08:23:46.760427Z"
    },
    "papermill": {
     "duration": 0.030923,
     "end_time": "2025-08-21T08:23:46.763625",
     "exception": false,
     "start_time": "2025-08-21T08:23:46.732702",
     "status": "completed"
    },
    "tags": []
   },
   "outputs": [
    {
     "data": {
      "text/plain": [
       "[array([[ 3.4140074e-01, -1.1482711e-02, -2.1407062e-01, -1.2799188e-02,\n",
       "         -7.0883974e-02,  2.1691674e-01, -1.9163197e-02,  4.7974783e-01,\n",
       "          6.8561588e-03, -2.0585223e-01, -1.2226964e-01, -1.8813147e-01,\n",
       "          5.9270227e-01,  2.3547833e-01, -6.1571622e-01,  5.3841126e-01],\n",
       "        [ 6.8780857e-01, -2.4970098e-01, -5.3256553e-01, -5.7640773e-01,\n",
       "         -7.1594036e-01, -3.9828762e-01, -4.3154943e-01,  2.4550685e-01,\n",
       "         -3.3235553e-01,  1.8362373e-02, -1.7588051e-01,  4.8241526e-01,\n",
       "         -3.4167424e-01, -3.4887540e-01, -1.0891659e-01,  4.4787511e-01],\n",
       "        [-3.7776145e-01, -6.2751192e-01, -2.7653750e-04,  4.9591216e-01,\n",
       "          1.2164361e-01, -2.8904930e-01, -3.8532627e-01,  2.7369177e-01,\n",
       "          4.7498399e-01,  4.5904145e-01,  1.0723374e-01,  1.0561426e-01,\n",
       "          1.2616707e-01,  1.9244221e-01,  2.0769963e-01, -5.9609091e-01],\n",
       "        [-1.6900761e-01,  3.5597838e-02,  2.7131966e-01,  3.2470885e-01,\n",
       "         -1.1455169e-03, -1.5854684e-01,  1.9105716e-01,  2.4080504e-01,\n",
       "          2.7125764e-01, -2.3548353e-01,  2.9993814e-01,  3.0424416e-01,\n",
       "         -1.2360943e-01, -4.4790158e-01, -3.0471739e-01, -2.4418162e-01],\n",
       "        [-2.5146049e-01,  6.1666463e-02, -1.2725577e-01, -3.4164903e-01,\n",
       "          1.6525626e-01, -2.1868314e-01,  1.8216543e-01, -5.2548063e-01,\n",
       "          2.5656220e-01,  4.5811385e-01,  3.6938807e-01, -8.5401580e-02,\n",
       "         -3.3128908e-01, -4.8103537e-02,  6.2717056e-01,  1.0728015e-01],\n",
       "        [ 3.7742284e-01, -4.8659086e-01, -4.5649379e-01, -1.9590499e-01,\n",
       "         -3.2938114e-01, -2.9517636e-01, -5.9709334e-01,  4.2622721e-01,\n",
       "          4.8901737e-02, -2.6312487e-02,  1.5433083e-01, -5.4539625e-02,\n",
       "         -2.5523123e-01, -1.8360385e-01,  3.3144739e-02, -2.4613258e-01],\n",
       "        [-5.1605333e-02,  4.3235612e-01,  1.8319182e-01, -4.5739347e-01,\n",
       "          2.2770582e-01, -2.8991878e-01, -4.0796247e-01,  3.5145926e-01,\n",
       "          2.6763833e-01, -2.4861246e-01,  4.2617881e-01, -1.2532908e-01,\n",
       "         -6.9479853e-01,  6.6272758e-02, -5.0611967e-01, -3.2556883e-01],\n",
       "        [-4.4217041e-01,  3.8752583e-01, -3.3257931e-01, -5.6819636e-02,\n",
       "         -7.2321403e-01,  6.6389191e-01, -2.1996360e-01, -6.7437463e-02,\n",
       "         -5.8924711e-01, -6.7988141e-03,  5.8341205e-01,  2.0677258e-01,\n",
       "          6.4137213e-02,  1.5481156e-01, -2.1003295e-01, -5.0348091e-01]],\n",
       "       dtype=float32),\n",
       " array([-0.07146894,  0.03182513, -0.04962237, -0.00395677,  0.08418594,\n",
       "        -0.08813214,  0.02790672, -0.10627355, -0.01356888,  0.2991813 ,\n",
       "         0.08428905,  0.0423901 ,  0.01438578, -0.11684716,  0.10337888,\n",
       "         0.07771001], dtype=float32)]"
      ]
     },
     "execution_count": 26,
     "metadata": {},
     "output_type": "execute_result"
    }
   ],
   "source": [
    "model.layers[0].get_weights()"
   ]
  },
  {
   "cell_type": "code",
   "execution_count": 27,
   "id": "a20a3f55",
   "metadata": {
    "execution": {
     "iopub.execute_input": "2025-08-21T08:23:46.802236Z",
     "iopub.status.busy": "2025-08-21T08:23:46.801954Z",
     "iopub.status.idle": "2025-08-21T08:23:46.811121Z",
     "shell.execute_reply": "2025-08-21T08:23:46.809869Z"
    },
    "papermill": {
     "duration": 0.031481,
     "end_time": "2025-08-21T08:23:46.812430",
     "exception": false,
     "start_time": "2025-08-21T08:23:46.780949",
     "status": "completed"
    },
    "tags": []
   },
   "outputs": [
    {
     "data": {
      "text/plain": [
       "[array([[-0.19022816,  0.49836403, -0.23910457, -0.5118227 ,  0.2574982 ,\n",
       "         -0.24816981, -0.47942504, -0.4110042 ],\n",
       "        [-0.51500124,  0.13308631, -0.13550031,  0.6792835 ,  0.13228884,\n",
       "          0.21644777, -0.54381937, -0.47832847],\n",
       "        [ 0.09341229, -0.4555457 ,  0.27363986,  0.20287776,  0.17790987,\n",
       "          0.06122293, -0.24322103,  0.0175046 ],\n",
       "        [-0.436927  , -0.42495298, -0.0062345 ,  0.21463193,  0.16349582,\n",
       "          0.10688843,  0.0385184 ,  0.41140872],\n",
       "        [-0.5350622 ,  0.08225349,  0.6906292 ,  0.41221356,  0.39220428,\n",
       "          0.3386867 , -0.04845911, -0.5281269 ],\n",
       "        [ 0.07240193, -0.2733423 , -0.4561875 ,  0.1309708 , -0.14781557,\n",
       "         -0.44941399, -0.29162532, -0.15470071],\n",
       "        [-0.28473717, -0.45970273, -0.2607663 ,  0.47623   ,  0.31138796,\n",
       "          0.46664155,  0.11482459,  0.2319567 ],\n",
       "        [ 0.3532226 ,  0.36275986,  0.06844636, -0.23553343, -0.4454966 ,\n",
       "         -0.33111784, -0.03478069,  0.20561749],\n",
       "        [-0.26990813, -0.21943107,  0.1614115 ,  0.5512407 ,  0.35125864,\n",
       "         -0.24210145,  0.5439071 , -0.11285629],\n",
       "        [ 0.43352607,  0.43597   ,  0.37018645,  0.3607706 , -0.47425622,\n",
       "          0.38611352,  0.20992108, -0.27240393],\n",
       "        [ 0.56417674,  0.28353322, -0.2956836 ,  0.02057799, -0.20848197,\n",
       "         -0.710117  , -0.36841464, -0.5348065 ],\n",
       "        [ 0.23624444,  0.06182199, -0.32676458, -0.29069296, -0.4516717 ,\n",
       "         -0.508301  , -0.02985413, -0.23366879],\n",
       "        [-0.3114932 , -0.36744288,  0.5896235 ,  0.07236674,  0.09460379,\n",
       "         -0.09594737,  0.00813571,  0.50984776],\n",
       "        [-0.00605726,  0.24012977,  0.49185556,  0.16934252,  0.186295  ,\n",
       "         -0.08437749,  0.41223723, -0.43139592],\n",
       "        [ 0.45328045,  0.19646366,  0.51819533,  0.560716  , -0.63781023,\n",
       "          0.3113265 ,  0.03122032, -0.25126398],\n",
       "        [ 0.04624724,  0.70374125,  0.42795897, -0.22057159,  0.06911246,\n",
       "          0.4437612 ,  0.5877138 , -0.32052264]], dtype=float32),\n",
       " array([ 0.15327966,  0.30553517, -0.00273124,  0.04900545, -0.1167343 ,\n",
       "         0.1097585 ,  0.03510007,  0.01992038], dtype=float32)]"
      ]
     },
     "execution_count": 27,
     "metadata": {},
     "output_type": "execute_result"
    }
   ],
   "source": [
    "model.layers[1].get_weights()"
   ]
  },
  {
   "cell_type": "code",
   "execution_count": 28,
   "id": "71a754b5",
   "metadata": {
    "execution": {
     "iopub.execute_input": "2025-08-21T08:23:46.849283Z",
     "iopub.status.busy": "2025-08-21T08:23:46.848995Z",
     "iopub.status.idle": "2025-08-21T08:23:46.864237Z",
     "shell.execute_reply": "2025-08-21T08:23:46.863046Z"
    },
    "papermill": {
     "duration": 0.035174,
     "end_time": "2025-08-21T08:23:46.865707",
     "exception": false,
     "start_time": "2025-08-21T08:23:46.830533",
     "status": "completed"
    },
    "tags": []
   },
   "outputs": [
    {
     "name": "stdout",
     "output_type": "stream",
     "text": [
      "Train shape: (614, 8)\n",
      "Test shape: (154, 8)\n"
     ]
    }
   ],
   "source": [
    "import pandas as pd\n",
    "from sklearn.model_selection import train_test_split\n",
    "from sklearn.preprocessing import StandardScaler\n",
    "\n",
    "df = pd.read_csv(\"/kaggle/input/pima-indians-diabetes-database/diabetes.csv\")\n",
    "\n",
    "X = df.drop(columns=['Outcome'])\n",
    "y = df['Outcome']\n",
    "\n",
    "X_train, X_test, y_train, y_test = train_test_split(X, y, test_size=0.2, random_state=42)\n",
    "\n",
    "scaler = StandardScaler()\n",
    "X_train_trf = scaler.fit_transform(X_train)   # fit + transform on train\n",
    "X_test_trf  = scaler.transform(X_test)        # transform only on test (not fit again!)\n",
    "\n",
    "print(\"Train shape:\", X_train_trf.shape)\n",
    "print(\"Test shape:\", X_test_trf.shape)\n"
   ]
  },
  {
   "cell_type": "code",
   "execution_count": 29,
   "id": "5c051131",
   "metadata": {
    "execution": {
     "iopub.execute_input": "2025-08-21T08:23:46.901970Z",
     "iopub.status.busy": "2025-08-21T08:23:46.901695Z",
     "iopub.status.idle": "2025-08-21T08:23:47.067134Z",
     "shell.execute_reply": "2025-08-21T08:23:47.066375Z"
    },
    "papermill": {
     "duration": 0.185422,
     "end_time": "2025-08-21T08:23:47.068951",
     "exception": false,
     "start_time": "2025-08-21T08:23:46.883529",
     "status": "completed"
    },
    "tags": []
   },
   "outputs": [
    {
     "name": "stdout",
     "output_type": "stream",
     "text": [
      "\u001b[1m5/5\u001b[0m \u001b[32m━━━━━━━━━━━━━━━━━━━━\u001b[0m\u001b[37m\u001b[0m \u001b[1m0s\u001b[0m 14ms/step\n"
     ]
    }
   ],
   "source": [
    "y_log=model.predict(X_test_trf)"
   ]
  },
  {
   "cell_type": "code",
   "execution_count": 30,
   "id": "60e0ed2a",
   "metadata": {
    "execution": {
     "iopub.execute_input": "2025-08-21T08:23:47.105486Z",
     "iopub.status.busy": "2025-08-21T08:23:47.105162Z",
     "iopub.status.idle": "2025-08-21T08:23:47.110754Z",
     "shell.execute_reply": "2025-08-21T08:23:47.109364Z"
    },
    "papermill": {
     "duration": 0.025694,
     "end_time": "2025-08-21T08:23:47.112412",
     "exception": false,
     "start_time": "2025-08-21T08:23:47.086718",
     "status": "completed"
    },
    "tags": []
   },
   "outputs": [],
   "source": [
    "y_pred=np.where(y_log>0.5,1,0)"
   ]
  },
  {
   "cell_type": "code",
   "execution_count": 31,
   "id": "ba100436",
   "metadata": {
    "execution": {
     "iopub.execute_input": "2025-08-21T08:23:47.154675Z",
     "iopub.status.busy": "2025-08-21T08:23:47.154332Z",
     "iopub.status.idle": "2025-08-21T08:23:47.162716Z",
     "shell.execute_reply": "2025-08-21T08:23:47.161721Z"
    },
    "papermill": {
     "duration": 0.029766,
     "end_time": "2025-08-21T08:23:47.164225",
     "exception": false,
     "start_time": "2025-08-21T08:23:47.134459",
     "status": "completed"
    },
    "tags": []
   },
   "outputs": [
    {
     "data": {
      "text/plain": [
       "0.7272727272727273"
      ]
     },
     "execution_count": 31,
     "metadata": {},
     "output_type": "execute_result"
    }
   ],
   "source": [
    "from sklearn.metrics import accuracy_score\n",
    "accuracy_score(y_test,y_pred)"
   ]
  },
  {
   "cell_type": "code",
   "execution_count": 32,
   "id": "f419e36e",
   "metadata": {
    "execution": {
     "iopub.execute_input": "2025-08-21T08:23:47.205040Z",
     "iopub.status.busy": "2025-08-21T08:23:47.204445Z",
     "iopub.status.idle": "2025-08-21T08:23:47.418022Z",
     "shell.execute_reply": "2025-08-21T08:23:47.417300Z"
    },
    "papermill": {
     "duration": 0.234807,
     "end_time": "2025-08-21T08:23:47.419253",
     "exception": false,
     "start_time": "2025-08-21T08:23:47.184446",
     "status": "completed"
    },
    "tags": []
   },
   "outputs": [
    {
     "data": {
      "text/plain": [
       "[<matplotlib.lines.Line2D at 0x783bd857a590>]"
      ]
     },
     "execution_count": 32,
     "metadata": {},
     "output_type": "execute_result"
    },
    {
     "data": {
      "image/png": "[encoded data removed]",
      "text/plain": [
       "<Figure size 640x480 with 1 Axes>"
      ]
     },
     "metadata": {},
     "output_type": "display_data"
    }
   ],
   "source": [
    "import matplotlib.pyplot as plt\n",
    "\n",
    "plt.plot(history.history['loss'])\n",
    "plt.plot(history.history['val_loss'])"
   ]
  },
  {
   "cell_type": "code",
   "execution_count": 33,
   "id": "dda98f75",
   "metadata": {
    "execution": {
     "iopub.execute_input": "2025-08-21T08:23:47.462259Z",
     "iopub.status.busy": "2025-08-21T08:23:47.461949Z",
     "iopub.status.idle": "2025-08-21T08:23:47.589764Z",
     "shell.execute_reply": "2025-08-21T08:23:47.588941Z"
    },
    "papermill": {
     "duration": 0.150304,
     "end_time": "2025-08-21T08:23:47.591005",
     "exception": false,
     "start_time": "2025-08-21T08:23:47.440701",
     "status": "completed"
    },
    "tags": []
   },
   "outputs": [
    {
     "data": {
      "text/plain": [
       "[<matplotlib.lines.Line2D at 0x783bd847c210>]"
      ]
     },
     "execution_count": 33,
     "metadata": {},
     "output_type": "execute_result"
    },
    {
     "data": {
      "image/png": "[encoded data removed]",
      "text/plain": [
       "<Figure size 640x480 with 1 Axes>"
      ]
     },
     "metadata": {},
     "output_type": "display_data"
    }
   ],
   "source": [
    "plt.plot(history.history['accuracy'])\n",
    "plt.plot(history.history['val_accuracy'])"
   ]
  },
  {
   "cell_type": "code",
   "execution_count": null,
   "id": "64584867",
   "metadata": {
    "papermill": {
     "duration": 0.01822,
     "end_time": "2025-08-21T08:23:47.630407",
     "exception": false,
     "start_time": "2025-08-21T08:23:47.612187",
     "status": "completed"
    },
    "tags": []
   },
   "outputs": [],
   "source": []
  }
 ],
 "metadata": {
  "kaggle": {
   "accelerator": "none",
   "dataSources": [
    {
     "datasetId": 228,
     "sourceId": 482,
     "sourceType": "datasetVersion"
    }
   ],
   "dockerImageVersionId": 31089,
   "isGpuEnabled": false,
   "isInternetEnabled": false,
   "language": "python",
   "sourceType": "notebook"
  },
  "kernelspec": {
   "display_name": "Python 3",
   "language": "python",
   "name": "python3"
  },
  "language_info": {
   "codemirror_mode": {
    "name": "ipython",
    "version": 3
   },
   "file_extension": ".py",
   "mimetype": "text/x-python",
   "name": "python",
   "nbconvert_exporter": "python",
   "pygments_lexer": "ipython3",
   "version": "3.11.13"
  },
  "papermill": {
   "default_parameters": {},
   "duration": 43.874695,
   "end_time": "2025-08-21T08:23:51.134873",
   "environment_variables": {},
   "exception": null,
   "input_path": "__notebook__.ipynb",
   "output_path": "__notebook__.ipynb",
   "parameters": {},
   "start_time": "2025-08-21T08:23:07.260178",
   "version": "2.6.0"
  }
 },
 "nbformat": 4,
 "nbformat_minor": 5
}
